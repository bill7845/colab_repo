{
  "nbformat": 4,
  "nbformat_minor": 0,
  "metadata": {
    "colab": {
      "name": "펀다_NOTE_1.ipynb",
      "provenance": [],
      "collapsed_sections": [],
      "machine_shape": "hm",
      "mount_file_id": "1XdpAcZWxstHjO-d7xyNCfOnIAsv_KLpb",
      "authorship_tag": "ABX9TyPrpjIx1Fh8/wiPKljc16bG",
      "include_colab_link": true
    },
    "kernelspec": {
      "name": "python3",
      "display_name": "Python 3"
    },
    "accelerator": "TPU"
  },
  "cells": [
    {
      "cell_type": "markdown",
      "metadata": {
        "id": "view-in-github",
        "colab_type": "text"
      },
      "source": [
        "<a href=\"https://colab.research.google.com/github/bill7845/colab_repo/blob/master/dacon_%ED%8E%80%EB%8B%A4/%ED%8E%80%EB%8B%A4_NOTE_1.ipynb\" target=\"_parent\"><img src=\"https://colab.research.google.com/assets/colab-badge.svg\" alt=\"Open In Colab\"/></a>"
      ]
    },
    {
      "cell_type": "code",
      "metadata": {
        "id": "ped0VhasZImD",
        "colab_type": "code",
        "colab": {}
      },
      "source": [
        "import pandas as pd\n",
        "import numpy as np\n",
        "import scipy as sp\n",
        "\n",
        "import matplotlib.pyplot as plt\n",
        "import seaborn as sns\n",
        "import missingno as msno\n",
        "\n",
        "sns.set()\n",
        "%matplotlib inline\n",
        "\n",
        "import warnings\n",
        "warnings.filterwarnings(action='ignore') "
      ],
      "execution_count": 0,
      "outputs": []
    },
    {
      "cell_type": "code",
      "metadata": {
        "id": "L6h2XZUWZyCz",
        "colab_type": "code",
        "colab": {}
      },
      "source": [
        "train = pd.read_csv('/content/drive/My Drive/Colab Notebooks/dacon_펀다/funda_train.csv')\n",
        "submission = pd.read_csv('/content/drive/My Drive/Colab Notebooks/dacon_펀다/submission.csv')"
      ],
      "execution_count": 0,
      "outputs": []
    },
    {
      "cell_type": "code",
      "metadata": {
        "id": "hXjvjkVxbyNo",
        "colab_type": "code",
        "outputId": "b3f9d8ff-7763-477e-8ade-774033b0245f",
        "colab": {
          "base_uri": "https://localhost:8080/",
          "height": 136
        }
      },
      "source": [
        "train.head(3)"
      ],
      "execution_count": 0,
      "outputs": [
        {
          "output_type": "execute_result",
          "data": {
            "text/html": [
              "<div>\n",
              "<style scoped>\n",
              "    .dataframe tbody tr th:only-of-type {\n",
              "        vertical-align: middle;\n",
              "    }\n",
              "\n",
              "    .dataframe tbody tr th {\n",
              "        vertical-align: top;\n",
              "    }\n",
              "\n",
              "    .dataframe thead th {\n",
              "        text-align: right;\n",
              "    }\n",
              "</style>\n",
              "<table border=\"1\" class=\"dataframe\">\n",
              "  <thead>\n",
              "    <tr style=\"text-align: right;\">\n",
              "      <th></th>\n",
              "      <th>store_id</th>\n",
              "      <th>card_id</th>\n",
              "      <th>card_company</th>\n",
              "      <th>transacted_date</th>\n",
              "      <th>transacted_time</th>\n",
              "      <th>installment_term</th>\n",
              "      <th>region</th>\n",
              "      <th>type_of_business</th>\n",
              "      <th>amount</th>\n",
              "    </tr>\n",
              "  </thead>\n",
              "  <tbody>\n",
              "    <tr>\n",
              "      <th>0</th>\n",
              "      <td>0</td>\n",
              "      <td>0</td>\n",
              "      <td>b</td>\n",
              "      <td>2016-06-01</td>\n",
              "      <td>13:13</td>\n",
              "      <td>0</td>\n",
              "      <td>NaN</td>\n",
              "      <td>기타 미용업</td>\n",
              "      <td>1857.142857</td>\n",
              "    </tr>\n",
              "    <tr>\n",
              "      <th>1</th>\n",
              "      <td>0</td>\n",
              "      <td>1</td>\n",
              "      <td>h</td>\n",
              "      <td>2016-06-01</td>\n",
              "      <td>18:12</td>\n",
              "      <td>0</td>\n",
              "      <td>NaN</td>\n",
              "      <td>기타 미용업</td>\n",
              "      <td>857.142857</td>\n",
              "    </tr>\n",
              "    <tr>\n",
              "      <th>2</th>\n",
              "      <td>0</td>\n",
              "      <td>2</td>\n",
              "      <td>c</td>\n",
              "      <td>2016-06-01</td>\n",
              "      <td>18:52</td>\n",
              "      <td>0</td>\n",
              "      <td>NaN</td>\n",
              "      <td>기타 미용업</td>\n",
              "      <td>2000.000000</td>\n",
              "    </tr>\n",
              "  </tbody>\n",
              "</table>\n",
              "</div>"
            ],
            "text/plain": [
              "   store_id  card_id card_company  ... region type_of_business       amount\n",
              "0         0        0            b  ...    NaN           기타 미용업  1857.142857\n",
              "1         0        1            h  ...    NaN           기타 미용업   857.142857\n",
              "2         0        2            c  ...    NaN           기타 미용업  2000.000000\n",
              "\n",
              "[3 rows x 9 columns]"
            ]
          },
          "metadata": {
            "tags": []
          },
          "execution_count": 5
        }
      ]
    },
    {
      "cell_type": "code",
      "metadata": {
        "id": "bO3ScgcMb3zD",
        "colab_type": "code",
        "outputId": "a05ff4d8-5247-4a07-d075-6c2ae496389a",
        "colab": {
          "base_uri": "https://localhost:8080/",
          "height": 34
        }
      },
      "source": [
        "## 상점 갯수\n",
        "\n",
        "train.store_id.nunique()"
      ],
      "execution_count": 0,
      "outputs": [
        {
          "output_type": "execute_result",
          "data": {
            "text/plain": [
              "1967"
            ]
          },
          "metadata": {
            "tags": []
          },
          "execution_count": 4
        }
      ]
    },
    {
      "cell_type": "code",
      "metadata": {
        "id": "bLnpCPnLcy39",
        "colab_type": "code",
        "outputId": "2ab03f40-cab6-4224-fd7d-73bd93739568",
        "colab": {
          "base_uri": "https://localhost:8080/",
          "height": 431
        }
      },
      "source": [
        "# 업종별 매출을 살펴보자\n",
        "train.groupby('type_of_business')['amount'].agg(['sum','mean','std']).sort_values(by='mean',ascending=False)"
      ],
      "execution_count": 0,
      "outputs": [
        {
          "output_type": "execute_result",
          "data": {
            "text/html": [
              "<div>\n",
              "<style scoped>\n",
              "    .dataframe tbody tr th:only-of-type {\n",
              "        vertical-align: middle;\n",
              "    }\n",
              "\n",
              "    .dataframe tbody tr th {\n",
              "        vertical-align: top;\n",
              "    }\n",
              "\n",
              "    .dataframe thead th {\n",
              "        text-align: right;\n",
              "    }\n",
              "</style>\n",
              "<table border=\"1\" class=\"dataframe\">\n",
              "  <thead>\n",
              "    <tr style=\"text-align: right;\">\n",
              "      <th></th>\n",
              "      <th>sum</th>\n",
              "      <th>mean</th>\n",
              "      <th>std</th>\n",
              "    </tr>\n",
              "    <tr>\n",
              "      <th>type_of_business</th>\n",
              "      <th></th>\n",
              "      <th></th>\n",
              "      <th></th>\n",
              "    </tr>\n",
              "  </thead>\n",
              "  <tbody>\n",
              "    <tr>\n",
              "      <th>의약품 도매업</th>\n",
              "      <td>1.568540e+09</td>\n",
              "      <td>354632.638674</td>\n",
              "      <td>455046.472963</td>\n",
              "    </tr>\n",
              "    <tr>\n",
              "      <th>기타 산업용 농산물 도매업</th>\n",
              "      <td>3.189488e+08</td>\n",
              "      <td>276625.139388</td>\n",
              "      <td>297476.619589</td>\n",
              "    </tr>\n",
              "    <tr>\n",
              "      <th>경영 컨설팅업</th>\n",
              "      <td>9.516713e+07</td>\n",
              "      <td>150819.538148</td>\n",
              "      <td>196114.489375</td>\n",
              "    </tr>\n",
              "    <tr>\n",
              "      <th>일반 병원</th>\n",
              "      <td>3.609477e+08</td>\n",
              "      <td>135287.727565</td>\n",
              "      <td>90847.339946</td>\n",
              "    </tr>\n",
              "    <tr>\n",
              "      <th>주방용품 및 가정용 유리, 요업 제품 소매업</th>\n",
              "      <td>5.284146e+07</td>\n",
              "      <td>95901.011149</td>\n",
              "      <td>142404.188224</td>\n",
              "    </tr>\n",
              "    <tr>\n",
              "      <th>...</th>\n",
              "      <td>...</td>\n",
              "      <td>...</td>\n",
              "      <td>...</td>\n",
              "    </tr>\n",
              "    <tr>\n",
              "      <th>비알코올 음료점업</th>\n",
              "      <td>1.432737e+08</td>\n",
              "      <td>1970.210406</td>\n",
              "      <td>13852.538387</td>\n",
              "    </tr>\n",
              "    <tr>\n",
              "      <th>떡류 제조업</th>\n",
              "      <td>1.046651e+07</td>\n",
              "      <td>1825.979464</td>\n",
              "      <td>4166.517423</td>\n",
              "    </tr>\n",
              "    <tr>\n",
              "      <th>체인화 편의점</th>\n",
              "      <td>3.871520e+06</td>\n",
              "      <td>1593.218107</td>\n",
              "      <td>2865.938897</td>\n",
              "    </tr>\n",
              "    <tr>\n",
              "      <th>일반 의원</th>\n",
              "      <td>4.106983e+06</td>\n",
              "      <td>1406.982724</td>\n",
              "      <td>1963.882901</td>\n",
              "    </tr>\n",
              "    <tr>\n",
              "      <th>제과점업</th>\n",
              "      <td>8.171557e+06</td>\n",
              "      <td>913.737800</td>\n",
              "      <td>1104.842172</td>\n",
              "    </tr>\n",
              "  </tbody>\n",
              "</table>\n",
              "<p>145 rows × 3 columns</p>\n",
              "</div>"
            ],
            "text/plain": [
              "                                   sum           mean            std\n",
              "type_of_business                                                    \n",
              "의약품 도매업                   1.568540e+09  354632.638674  455046.472963\n",
              "기타 산업용 농산물 도매업            3.189488e+08  276625.139388  297476.619589\n",
              "경영 컨설팅업                   9.516713e+07  150819.538148  196114.489375\n",
              "일반 병원                     3.609477e+08  135287.727565   90847.339946\n",
              "주방용품 및 가정용 유리, 요업 제품 소매업  5.284146e+07   95901.011149  142404.188224\n",
              "...                                ...            ...            ...\n",
              "비알코올 음료점업                 1.432737e+08    1970.210406   13852.538387\n",
              "떡류 제조업                    1.046651e+07    1825.979464    4166.517423\n",
              "체인화 편의점                   3.871520e+06    1593.218107    2865.938897\n",
              "일반 의원                     4.106983e+06    1406.982724    1963.882901\n",
              "제과점업                      8.171557e+06     913.737800    1104.842172\n",
              "\n",
              "[145 rows x 3 columns]"
            ]
          },
          "metadata": {
            "tags": []
          },
          "execution_count": 22
        }
      ]
    },
    {
      "cell_type": "code",
      "metadata": {
        "id": "mjkjlRtQddiz",
        "colab_type": "code",
        "outputId": "ad4e16f7-38ae-468a-bba1-f00491616c71",
        "colab": {
          "base_uri": "https://localhost:8080/",
          "height": 285
        }
      },
      "source": [
        "# sns.barplot(\n",
        "#     data= train,\n",
        "#     x= \"type_of_business\",\n",
        "#     y= \"amount\"\n",
        "# )\n",
        "# plt.show()"
      ],
      "execution_count": 0,
      "outputs": [
        {
          "output_type": "display_data",
          "data": {
            "image/png": "[encoded data removed]",
            "text/plain": [
              "<Figure size 432x288 with 1 Axes>"
            ]
          },
          "metadata": {
            "tags": []
          }
        }
      ]
    },
    {
      "cell_type": "code",
      "metadata": {
        "id": "9yRu5_pidXUq",
        "colab_type": "code",
        "colab": {}
      },
      "source": [
        "# 상점별 마지막시점으로부터의 3개월 기간의 매출을 예측해야한다. (3개월 총 매출)\n",
        "# 마지막 시점 이전 기간의 데이터가 input으로 활용될것이므로 데이터를 시간별로 정리해두어야 한다"
      ],
      "execution_count": 0,
      "outputs": []
    },
    {
      "cell_type": "code",
      "metadata": {
        "id": "bxqa4wejgUSx",
        "colab_type": "code",
        "colab": {}
      },
      "source": [
        "# date,time => python datetime 형식으로 변경\n",
        "train['datetime'] = train['transacted_date'] + train['transacted_time']\n",
        "\n",
        "# date,time col 합쳐서 datetime으로\n",
        "train['datetime'] = pd.to_datetime(train['datetime'], format='%Y-%m-%d%H:%M', errors='raise')\n",
        "\n",
        "# datetime을 인덱스로\n",
        "train.set_index('datetime',inplace=True)\n",
        "del train['transacted_date']\n",
        "del train['transacted_time']"
      ],
      "execution_count": 0,
      "outputs": []
    },
    {
      "cell_type": "code",
      "metadata": {
        "id": "8BY16pRuhWAD",
        "colab_type": "code",
        "outputId": "9cf5836e-379a-42e7-c918-3bc4b30e23b7",
        "colab": {
          "base_uri": "https://localhost:8080/",
          "height": 314
        }
      },
      "source": [
        "train.loc[train.store_id == 0].resample('3M')['amount'].sum().plot()"
      ],
      "execution_count": 0,
      "outputs": [
        {
          "output_type": "execute_result",
          "data": {
            "text/plain": [
              "<matplotlib.axes._subplots.AxesSubplot at 0x7f5ba22e60f0>"
            ]
          },
          "metadata": {
            "tags": []
          },
          "execution_count": 7
        },
        {
          "output_type": "display_data",
          "data": {
            "image/png": "[encoded data removed]",
            "text/plain": [
              "<Figure size 432x288 with 1 Axes>"
            ]
          },
          "metadata": {
            "tags": []
          }
        }
      ]
    },
    {
      "cell_type": "code",
      "metadata": {
        "id": "G5KSSFPflLl8",
        "colab_type": "code",
        "colab": {}
      },
      "source": [
        "# 상점별 3개월 매출총합을 예측하는것이 목표이다. 언뜻보기에 쓸만한 변수는 amount밖에 없어보인다.\n",
        "# 업종별 매출 추세?를 구해 파생변수를 만들어 볼 수 있지 않을까\n",
        "# 지역별 경기도 파생변수로?..\n"
      ],
      "execution_count": 0,
      "outputs": []
    },
    {
      "cell_type": "code",
      "metadata": {
        "id": "RiuHFJhSGchD",
        "colab_type": "code",
        "colab": {}
      },
      "source": [
        "## 거래취소에 대한 전처리\n",
        "\n",
        "# 두 가지 경우가 있다. 1.전액환불인 경우 2.일부환불(환급?)인 경우\n",
        "# 전액환불의 경우 처리가 가능하나 일부환불/환급에 대한 처리가 어렵다..\n",
        "# 우선 전액환불인 경우는 제거한다"
      ],
      "execution_count": 0,
      "outputs": []
    },
    {
      "cell_type": "code",
      "metadata": {
        "id": "STe3908dNEsC",
        "colab_type": "code",
        "colab": {}
      },
      "source": [
        "# train_copy = train.copy().reset_index() # index를 사용해야함 \n",
        "\n",
        "# def remove_transaction_cancel(df): \n",
        "#   train_neg = df[df.amount < 0] # 정상거래\n",
        "#   train_pos = df[df.amount > 0] # 거래취소 (전액/일부)\n",
        "\n",
        "#   tmp_index = [] \n",
        "#   tmp_index_2 = []\n",
        "\n",
        "#   for neg_i in train_neg.to_records()[:]: # to_records() => 데이터프레임을 ndarray형태로 바꾸어준다\n",
        "\n",
        "#     neg_index_i = neg_i[0] # i번째 취소거래에 대한 index\n",
        "#     neg_date_i = neg_i[1] # i번째 취소거래에 대한 date\n",
        "#     neg_store_i = neg_i[2] # i번째 취소거래에 대한 store_id\n",
        "#     neg_card_i = neg_i[3] # i번째 취소거래에 대한 card_id\n",
        "#     neg_amount_i = neg_i[8] # i번째 취소거래에 대한 amount\n",
        "\n",
        "#     pos_i = train_pos[train_pos['store_id'] == neg_store_i] # 정상거래 중 i번째 취소거래와 상점아이디 같은 경우만\n",
        "#     pos_i = pos_i[pos_i['card_id'] == neg_card_i] # 그리고 그 중 i번째 card_id도 같은 경우만\n",
        "#     pos_i = pos_i[pos_i.index < neg_index_i] # 마지막으로 그 중에서 index가 i번째 취소거래 이전인 경우만 # 취소거래 이전\n",
        "#     # date를 사용할 경우 같은 시간대에 결제/환불이 이루어진 경우 때문에 잘 걸러내지 못한다\n",
        "\n",
        "#     if len(pos_i[pos_i['amount'] == abs(neg_amount_i)]) > 0 : # 그 중에서 i번째 취소거래의 절대값과 같은 정상거래가 있다면 \n",
        "#       tmp_index.append(max(pos_i.index)) # 정상거래 중 i번째 취소거래와 가장 가까운 경우의 index를 가져간다\n",
        "#       tmp_index_2.append(neg_index_i) # 해당 취소거래의 index를 가져간다\n",
        "\n",
        "#   res_list = tmp_index + tmp_index_2 # 결제취소 데이터의 index를 모두 담는다 \n",
        "\n",
        "#   df = df.loc[~df.index.isin(res_list),:]      \n",
        "\n",
        "#   return df\n",
        "\n",
        "\n",
        "\n",
        "# train_copy = remove_transaction_cancel(train_copy) # 결제취소 데이터 삭제\n",
        "# train_copy.to_csv('preprocessing_1_거래취소.csv')"
      ],
      "execution_count": 0,
      "outputs": []
    },
    {
      "cell_type": "code",
      "metadata": {
        "id": "GPQFAsbocb68",
        "colab_type": "code",
        "colab": {}
      },
      "source": [
        "train_copy = pd.read_csv('/content/drive/My Drive/Colab Notebooks/dacon_펀다/preprocessing/preprocessing_1_거래취소.csv',index_col='datetime',parse_dates=True)\n",
        "del train_copy['Unnamed: 0']"
      ],
      "execution_count": 0,
      "outputs": []
    },
    {
      "cell_type": "code",
      "metadata": {
        "id": "F6VSRFLdewbQ",
        "colab_type": "code",
        "colab": {}
      },
      "source": [
        "sample = train_copy.query(\"store_id == 151\") # stor_id 0으로 sampling"
      ],
      "execution_count": 0,
      "outputs": []
    },
    {
      "cell_type": "code",
      "metadata": {
        "id": "Rnx0QZ0GBZiU",
        "colab_type": "code",
        "outputId": "51da2065-b1a1-42d4-973d-3e6a8a934ca4",
        "colab": {
          "base_uri": "https://localhost:8080/",
          "height": 106
        }
      },
      "source": [
        "train_copy[train_copy.store_id == 151].head(1)"
      ],
      "execution_count": 0,
      "outputs": [
        {
          "output_type": "execute_result",
          "data": {
            "text/html": [
              "<div>\n",
              "<style scoped>\n",
              "    .dataframe tbody tr th:only-of-type {\n",
              "        vertical-align: middle;\n",
              "    }\n",
              "\n",
              "    .dataframe tbody tr th {\n",
              "        vertical-align: top;\n",
              "    }\n",
              "\n",
              "    .dataframe thead th {\n",
              "        text-align: right;\n",
              "    }\n",
              "</style>\n",
              "<table border=\"1\" class=\"dataframe\">\n",
              "  <thead>\n",
              "    <tr style=\"text-align: right;\">\n",
              "      <th></th>\n",
              "      <th>store_id</th>\n",
              "      <th>card_id</th>\n",
              "      <th>card_company</th>\n",
              "      <th>installment_term</th>\n",
              "      <th>region</th>\n",
              "      <th>type_of_business</th>\n",
              "      <th>amount</th>\n",
              "    </tr>\n",
              "    <tr>\n",
              "      <th>datetime</th>\n",
              "      <th></th>\n",
              "      <th></th>\n",
              "      <th></th>\n",
              "      <th></th>\n",
              "      <th></th>\n",
              "      <th></th>\n",
              "      <th></th>\n",
              "    </tr>\n",
              "  </thead>\n",
              "  <tbody>\n",
              "    <tr>\n",
              "      <th>2016-06-01 17:19:00</th>\n",
              "      <td>151</td>\n",
              "      <td>335172</td>\n",
              "      <td>a</td>\n",
              "      <td>0</td>\n",
              "      <td>인천 남구</td>\n",
              "      <td>의복 소매업</td>\n",
              "      <td>4285.714286</td>\n",
              "    </tr>\n",
              "  </tbody>\n",
              "</table>\n",
              "</div>"
            ],
            "text/plain": [
              "                     store_id  card_id  ... type_of_business       amount\n",
              "datetime                                ...                              \n",
              "2016-06-01 17:19:00       151   335172  ...           의복 소매업  4285.714286\n",
              "\n",
              "[1 rows x 7 columns]"
            ]
          },
          "metadata": {
            "tags": []
          },
          "execution_count": 106
        }
      ]
    },
    {
      "cell_type": "code",
      "metadata": {
        "id": "xfGXdDVpg8mz",
        "colab_type": "code",
        "outputId": "464544e1-337c-4971-cf17-45df6aee2f2f",
        "colab": {
          "base_uri": "https://localhost:8080/",
          "height": 314
        }
      },
      "source": [
        "# 지표를 추가해보자\n",
        "\n",
        "# 업종별 일주일간 매출 평균 추세\n",
        "# store_id 0의 업종인 기타미용업으로 진행해본다\n",
        "train_copy[train_copy.type_of_business == \"기타 미용업\"]['amount'].resample('D').mean().rolling(7).mean().plot()\n",
        "\n",
        "\n",
        "# 지역별 일주일간 매출 추세\n",
        "train_copy[train_copy.region == \"인천 남구\"]['amount'].resample('D').mean().rolling(7).mean().plot()"
      ],
      "execution_count": 0,
      "outputs": [
        {
          "output_type": "execute_result",
          "data": {
            "text/plain": [
              "<matplotlib.axes._subplots.AxesSubplot at 0x7fd639a4fda0>"
            ]
          },
          "metadata": {
            "tags": []
          },
          "execution_count": 109
        },
        {
          "output_type": "display_data",
          "data": {
            "image/png": "[encoded data removed]",
            "text/plain": [
              "<Figure size 432x288 with 1 Axes>"
            ]
          },
          "metadata": {
            "tags": []
          }
        }
      ]
    }
  ]
}
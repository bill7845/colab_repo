{
  "nbformat": 4,
  "nbformat_minor": 0,
  "metadata": {
    "kernelspec": {
      "name": "python3",
      "display_name": "Python 3"
    },
    "language_info": {
      "codemirror_mode": {
        "name": "ipython",
        "version": 3
      },
      "file_extension": ".py",
      "mimetype": "text/x-python",
      "name": "python",
      "nbconvert_exporter": "python",
      "pygments_lexer": "ipython3",
      "version": "3.7.4"
    },
    "colab": {
      "name": "천체유형분류_NOTE_1.ipynb",
      "provenance": [],
      "collapsed_sections": [],
      "machine_shape": "hm",
      "include_colab_link": true
    },
    "accelerator": "TPU"
  },
  "cells": [
    {
      "cell_type": "markdown",
      "metadata": {
        "id": "view-in-github",
        "colab_type": "text"
      },
      "source": [
        "<a href=\"https://colab.research.google.com/github/bill7845/colab_repo/blob/master/dacon_%EC%B2%9C%EC%B2%B4%EC%9C%A0%ED%98%95%EB%B6%84%EB%A5%98/%EC%B2%9C%EC%B2%B4%EC%9C%A0%ED%98%95%EB%B6%84%EB%A5%98_NOTE_1.ipynb\" target=\"_parent\"><img src=\"https://colab.research.google.com/assets/colab-badge.svg\" alt=\"Open In Colab\"/></a>"
      ]
    },
    {
      "cell_type": "code",
      "metadata": {
        "id": "mvdTVu-pTbQE",
        "colab_type": "code",
        "outputId": "34c25017-367e-45b5-9e5c-ca8b70941457",
        "colab": {
          "base_uri": "https://localhost:8080/",
          "height": 34
        }
      },
      "source": [
        "import pandas as pd\n",
        "import numpy as np\n",
        "import missingno as msno\n",
        "import scipy as sp\n",
        "\n",
        "import matplotlib.pyplot as plt\n",
        "import seaborn as sns\n",
        "\n",
        "from sklearn.model_selection import train_test_split,GridSearchCV,KFold,cross_val_score\n",
        "from sklearn.preprocessing import LabelEncoder\n",
        "from sklearn.metrics import accuracy_score,log_loss\n",
        "from sklearn.tree import DecisionTreeClassifier\n",
        "from sklearn.preprocessing import StandardScaler\n",
        "from sklearn.preprocessing import MinMaxScaler\n",
        "from sklearn import svm\n",
        "from sklearn.ensemble import RandomForestClassifier, GradientBoostingClassifier,AdaBoostClassifier,VotingClassifier,BaggingClassifier\n",
        "from sklearn.linear_model import LogisticRegression\n",
        "from sklearn import metrics\n",
        "\n",
        "from sklearn.decomposition import PCA\n",
        "from sklearn.decomposition import KernelPCA\n",
        "from sklearn.preprocessing import StandardScaler\n",
        "from sklearn.metrics import roc_curve\n",
        "from yellowbrick.classifier import ROCAUC\n",
        "from sklearn.metrics import classification_report\n",
        "\n",
        "from xgboost import XGBClassifier\n",
        "import xgboost as xgb\n",
        "import lightgbm as lgb\n",
        "from sklearn.model_selection import train_test_split, StratifiedKFold, GridSearchCV\n",
        "\n",
        "sns.set()\n",
        "\n",
        "%matplotlib inline\n",
        "%precision 3"
      ],
      "execution_count": 0,
      "outputs": [
        {
          "output_type": "execute_result",
          "data": {
            "text/plain": [
              "'%.3f'"
            ]
          },
          "metadata": {
            "tags": []
          },
          "execution_count": 68
        }
      ]
    },
    {
      "cell_type": "code",
      "metadata": {
        "id": "7CweTADgTbQK",
        "colab_type": "code",
        "colab": {}
      },
      "source": [
        "# train = pd.read_csv('C:/Users/KIHyuk/Desktop/dacon_data/Data_천체유형분류/train.csv',index_col=0)\n",
        "# test = pd.read_csv('C:/Users/KIHyuk/Desktop/dacon_data/Data_천체유형분류/test.csv',index_col=0)\n",
        "# sample_submission = pd.read_csv('C:/Users/KIHyuk/Desktop/dacon_data/Data_천체유형분류/sample_submission.csv',index_col=0)\n",
        "\n",
        "train = pd.read_csv('/content/drive/My Drive/Colab Notebooks/dacon_천체유형분류/train.csv',index_col=0)\n",
        "test = pd.read_csv('/content/drive/My Drive/Colab Notebooks/dacon_천체유형분류/test.csv',index_col=0)\n",
        "sample_submission = pd.read_csv('/content/drive/My Drive/Colab Notebooks/dacon_천체유형분류/sample_submission.csv',index_col=0)"
      ],
      "execution_count": 0,
      "outputs": []
    },
    {
      "cell_type": "code",
      "metadata": {
        "id": "MV5RcLfpEdCD",
        "colab_type": "code",
        "colab": {}
      },
      "source": [
        "column_number = {}\n",
        "for i, column in enumerate(sample_submission.columns):\n",
        "    column_number[column] = i\n",
        "    \n",
        "def to_number(x, dic):\n",
        "    return dic[x]\n",
        "\n",
        "train['type_num'] = train['type'].apply(lambda x: to_number(x, column_number))\n",
        "\n",
        "train = train.drop(['fiberID'],axis=1)\n",
        "test = test.drop(['fiberID'],axis=1)\n",
        "\n",
        "train_x,test_x,train_y,test_y = train_test_split(train.drop(columns=['type', 'type_num'], axis=1),train['type_num'],random_state=2,stratify=train['type_num'])\n",
        "\n",
        "res_train_x = train.drop(columns=['type', 'type_num'], axis=1)\n",
        "res_train_y = train['type_num']\n",
        "res_test_x = test"
      ],
      "execution_count": 0,
      "outputs": []
    },
    {
      "cell_type": "code",
      "metadata": {
        "id": "-vorFJZQn_vX",
        "colab_type": "code",
        "colab": {}
      },
      "source": [
        "## 차원축소\n",
        "\n",
        "# scaling\n",
        "scaler = StandardScaler()\n",
        "\n",
        "sc_train_x = scaler.fit_transform(train_x)\n",
        "sc_test_x = scaler.fit_transform(test_x)\n",
        "\n",
        "# pca\n",
        "pca = PCA(n_components=5,random_state=2)\n",
        "pca_train_x = pca.fit_transform(sc_train_x)\n",
        "pca_test_x = pca.transform(sc_test_x) ## test데이터에는 transform"
      ],
      "execution_count": 0,
      "outputs": []
    },
    {
      "cell_type": "code",
      "metadata": {
        "id": "QR_6Ay-9pJBk",
        "colab_type": "code",
        "outputId": "5ecc9f64-3965-4889-a129-dc554db3ee8d",
        "colab": {
          "base_uri": "https://localhost:8080/",
          "height": 52
        }
      },
      "source": [
        "# print('eigen_value :', pca.explained_variance_)\n",
        "print('explained variance ratio :', pca.explained_variance_ratio_) # 주성분별 분산 설명 비율 (*설명비율)\n",
        "print('선택한 차원(픽셀) 수 :', pca.n_components_) # 95%의 분산 설명을 위해 몇개의 차원을 선택했는가"
      ],
      "execution_count": 0,
      "outputs": [
        {
          "output_type": "stream",
          "text": [
            "explained variance ratio : [0.383 0.14  0.079 0.069 0.058]\n",
            "선택한 차원(픽셀) 수 : 5\n"
          ],
          "name": "stdout"
        }
      ]
    },
    {
      "cell_type": "code",
      "metadata": {
        "id": "iRyJC4lFcRYS",
        "colab_type": "code",
        "colab": {}
      },
      "source": [
        "############################################################################\n",
        "############ Random Forest\n",
        "############################################################################\n",
        "estimators = 300\n",
        "np.random.seed(2)\n",
        "RF_model = RandomForestClassifier(n_estimators = estimators)\n",
        "RF_model.fit(train_x, train_y)\n",
        "RF_prediction_proba = RF_model.predict_proba(test_x)\n",
        "RF_prediction = RF_model.predict(test_x)"
      ],
      "execution_count": 0,
      "outputs": []
    },
    {
      "cell_type": "code",
      "metadata": {
        "id": "QS59idbg0lGd",
        "colab_type": "code",
        "colab": {}
      },
      "source": [
        "# 100\n",
        "print(\"logloss : \",log_loss(test_y,RF_prediction_proba))"
      ],
      "execution_count": 0,
      "outputs": []
    },
    {
      "cell_type": "code",
      "metadata": {
        "id": "3eyomUvJzNJ3",
        "colab_type": "code",
        "outputId": "4d136f70-40b6-4c33-edca-6099dd8dbbbc",
        "colab": {
          "base_uri": "https://localhost:8080/",
          "height": 474
        }
      },
      "source": [
        "target_name = list(train['type'].unique())\n",
        "print(classification_report(test_y,RF_prediction,target_names=list(train.type.unique())))"
      ],
      "execution_count": 0,
      "outputs": [
        {
          "output_type": "stream",
          "text": [
            "                     precision    recall  f1-score   support\n",
            "\n",
            "                QSO       0.46      0.43      0.45       540\n",
            "     STAR_RED_DWARF       0.96      0.96      0.96      1627\n",
            "   SERENDIPITY_BLUE       0.60      0.39      0.47       125\n",
            "           STAR_BHB       0.79      0.84      0.82       640\n",
            "      STAR_CATY_VAR       0.90      0.97      0.94      3655\n",
            "SERENDIPITY_DISTANT       0.85      0.90      0.87      3375\n",
            "             GALAXY       0.97      0.98      0.97      9337\n",
            "   SPECTROPHOTO_STD       0.55      0.44      0.49      1163\n",
            "         REDDEN_STD       0.89      0.87      0.88     12420\n",
            "            ROSAT_D       0.84      0.97      0.90        32\n",
            "   STAR_WHITE_DWARF       0.97      0.98      0.97      3438\n",
            "    SERENDIPITY_RED       0.62      0.29      0.39      1645\n",
            "        STAR_CARBON       1.00      0.33      0.50         3\n",
            "  SERENDIPITY_FIRST       0.76      0.60      0.67      1783\n",
            "   STAR_BROWN_DWARF       0.82      0.94      0.88       814\n",
            "     STAR_SUB_DWARF       0.94      0.98      0.96      3658\n",
            "                SKY       0.88      0.95      0.92       288\n",
            " SERENDIPITY_MANUAL       0.67      0.13      0.22        15\n",
            "            STAR_PN       0.72      0.85      0.78      5440\n",
            "\n",
            "           accuracy                           0.87     49998\n",
            "          macro avg       0.80      0.73      0.74     49998\n",
            "       weighted avg       0.87      0.87      0.87     49998\n",
            "\n"
          ],
          "name": "stdout"
        }
      ]
    },
    {
      "cell_type": "code",
      "metadata": {
        "id": "OyURrzACTbQZ",
        "colab_type": "code",
        "colab": {}
      },
      "source": [
        "############################################################################\n",
        "############ Random Forest _ PCA\n",
        "############################################################################\n",
        "estimators = 300\n",
        "np.random.seed(2)\n",
        "RF_model = RandomForestClassifier(n_estimators = estimators)\n",
        "RF_model.fit(pca_train_x, train_y)\n",
        "RF_prediction_pca_proba = RF_model.predict_proba(pca_test_x)\n",
        "RF_prediction_pca = RF_model.predict(pca_test_x )"
      ],
      "execution_count": 0,
      "outputs": []
    },
    {
      "cell_type": "code",
      "metadata": {
        "id": "wZuI3s6GTbQd",
        "colab_type": "code",
        "outputId": "86cb1fe7-70a8-4dc2-a422-aeef09be9f26",
        "colab": {
          "base_uri": "https://localhost:8080/",
          "height": 34
        }
      },
      "source": [
        "# 100\n",
        "print(\"logloss : \",log_loss(test_y,RF_prediction_pca_proba))"
      ],
      "execution_count": 0,
      "outputs": [
        {
          "output_type": "stream",
          "text": [
            "logloss :  2.4404172692424253\n"
          ],
          "name": "stdout"
        }
      ]
    },
    {
      "cell_type": "code",
      "metadata": {
        "id": "WNmreTJd0rpF",
        "colab_type": "code",
        "outputId": "ce9afba8-093c-4824-a824-01b7c2dd4c92",
        "colab": {
          "base_uri": "https://localhost:8080/",
          "height": 530
        }
      },
      "source": [
        "print(classification_report(test_y,RF_prediction_pca,target_names=target_name))"
      ],
      "execution_count": 0,
      "outputs": [
        {
          "output_type": "stream",
          "text": [
            "                     precision    recall  f1-score   support\n",
            "\n",
            "                QSO       0.00      0.00      0.00       540\n",
            "     STAR_RED_DWARF       0.73      0.13      0.21      1627\n",
            "   SERENDIPITY_BLUE       0.02      0.02      0.02       125\n",
            "           STAR_BHB       0.08      0.30      0.13       640\n",
            "      STAR_CATY_VAR       0.00      0.00      0.00      3655\n",
            "SERENDIPITY_DISTANT       0.15      0.57      0.24      3375\n",
            "             GALAXY       0.44      0.43      0.44      9337\n",
            "   SPECTROPHOTO_STD       0.02      0.00      0.00      1163\n",
            "         REDDEN_STD       0.52      0.74      0.61     12420\n",
            "            ROSAT_D       0.06      0.25      0.09        32\n",
            "   STAR_WHITE_DWARF       0.61      0.35      0.44      3438\n",
            "    SERENDIPITY_RED       0.09      0.11      0.10      1645\n",
            "        STAR_CARBON       0.00      0.00      0.00         3\n",
            "  SERENDIPITY_FIRST       0.35      0.44      0.39      1783\n",
            "   STAR_BROWN_DWARF       0.25      0.00      0.00       814\n",
            "     STAR_SUB_DWARF       0.00      0.00      0.00      3658\n",
            "                SKY       0.84      0.30      0.44       288\n",
            " SERENDIPITY_MANUAL       0.00      0.00      0.00        15\n",
            "            STAR_PN       0.56      0.14      0.22      5440\n",
            "\n",
            "           accuracy                           0.37     49998\n",
            "          macro avg       0.25      0.20      0.18     49998\n",
            "       weighted avg       0.38      0.37      0.33     49998\n",
            "\n"
          ],
          "name": "stdout"
        },
        {
          "output_type": "stream",
          "text": [
            "/usr/local/lib/python3.6/dist-packages/sklearn/metrics/_classification.py:1272: UndefinedMetricWarning: Precision and F-score are ill-defined and being set to 0.0 in labels with no predicted samples. Use `zero_division` parameter to control this behavior.\n",
            "  _warn_prf(average, modifier, msg_start, len(result))\n"
          ],
          "name": "stderr"
        }
      ]
    },
    {
      "cell_type": "code",
      "metadata": {
        "id": "u2xLXRGtTbQj",
        "colab_type": "code",
        "colab": {}
      },
      "source": [
        "submission_RF = pd.DataFrame(data=RF_prediction, columns=sample_submission.columns, index=test_x.index)\n",
        "check_RF_accuracy = pd.DataFrame(data=RF_prediction, columns=range(0,19), index=test_x.index)\n",
        "submission_RF.to_csv('submission_RF.csv', index=True)"
      ],
      "execution_count": 0,
      "outputs": []
    },
    {
      "cell_type": "code",
      "metadata": {
        "id": "DTror5c66ntq",
        "colab_type": "code",
        "outputId": "8b2c8990-f41b-452c-c341-4912486469f2",
        "colab": {
          "base_uri": "https://localhost:8080/",
          "height": 298
        }
      },
      "source": [
        "############################################################################\n",
        "############ Light GBM\n",
        "############################################################################\n",
        "\n",
        "param = {'num_leaves' :500,\n",
        "        #  'min_data_in_leaf' : 50,\n",
        "         'learning_rate' : 0.03,\n",
        "         'max_depth' : 12,\n",
        "         'objective' : 'softmax',\n",
        "         'metric' : 'softmax',\n",
        "         'num_class' : 19,\n",
        "         'feature_fraction' : 0.7,\n",
        "         'random_state' : 2}\n",
        "\n",
        "# estimators = 100\n",
        "np.random.seed(2)\n",
        "\n",
        "train_data = lgb.Dataset(train_x, label=train_y)\n",
        "num_round=1300\n",
        "\n",
        "clf = lgb.train(param,train_data, num_round, valid_sets=[train_data], verbose_eval=100, early_stopping_rounds=200)\n",
        "# LGBM_model.fit(train_x,train_y,param,early_stopping_rounds=200)\n",
        "LGBM_prediction = clf.predict(test_x, num_iteration=clf.best_iteration)"
      ],
      "execution_count": 0,
      "outputs": [
        {
          "output_type": "stream",
          "text": [
            "Training until validation scores don't improve for 200 rounds.\n",
            "[100]\ttraining's multi_logloss: 0.320734\n",
            "[200]\ttraining's multi_logloss: 0.199374\n",
            "[300]\ttraining's multi_logloss: 0.163192\n",
            "[400]\ttraining's multi_logloss: 0.137532\n",
            "[500]\ttraining's multi_logloss: 0.11539\n",
            "[600]\ttraining's multi_logloss: 0.0958469\n",
            "[700]\ttraining's multi_logloss: 0.0795726\n",
            "[800]\ttraining's multi_logloss: 0.0661341\n",
            "[900]\ttraining's multi_logloss: 0.05563\n",
            "[1000]\ttraining's multi_logloss: 0.0466759\n",
            "[1100]\ttraining's multi_logloss: 0.0391969\n",
            "[1200]\ttraining's multi_logloss: 0.0329427\n",
            "[1300]\ttraining's multi_logloss: 0.0279569\n",
            "Did not meet early stopping. Best iteration is:\n",
            "[1300]\ttraining's multi_logloss: 0.0279569\n"
          ],
          "name": "stdout"
        }
      ]
    },
    {
      "cell_type": "code",
      "metadata": {
        "id": "1J5b4ZUuT2vD",
        "colab_type": "code",
        "outputId": "7a8b707a-7f7e-41fa-bfe3-38de5ac3ecdb",
        "colab": {
          "base_uri": "https://localhost:8080/",
          "height": 34
        }
      },
      "source": [
        "print(\"logloss : \",log_loss(test_y,LGBM_prediction))"
      ],
      "execution_count": 0,
      "outputs": [
        {
          "output_type": "stream",
          "text": [
            "logloss :  0.4210047425412792\n"
          ],
          "name": "stdout"
        }
      ]
    },
    {
      "cell_type": "code",
      "metadata": {
        "id": "H62Bryq654Ir",
        "colab_type": "code",
        "colab": {}
      },
      "source": [
        "submission_simpleLGBM = pd.DataFrame(data=LGBM_prediction, columns=sample_submission.columns, index=test_x.index)\n",
        "check_LGBM_accuracy = pd.DataFrame(data=LGBM_prediction, columns=range(0,19), index=test_x.index)\n",
        "submission_simpleLGBM.to_csv('submission_simpleLGBM.csv', index=True)"
      ],
      "execution_count": 0,
      "outputs": []
    },
    {
      "cell_type": "code",
      "metadata": {
        "id": "iWc_pmmQWW8S",
        "colab_type": "code",
        "colab": {}
      },
      "source": [
        "# ############################################################################\n",
        "# ############ Logistic Regression\n",
        "# ############################################################################\n",
        "\n",
        "np.random.seed(2)\n",
        "LR_model = LogisticRegression(random_state=2,multi_class='ovr',n_jobs=-1).fit(train_x,train_y)\n",
        "LR_prediction = LR_model.predict_proba(test_x)"
      ],
      "execution_count": 0,
      "outputs": []
    },
    {
      "cell_type": "code",
      "metadata": {
        "id": "IP1O5MguXWd6",
        "colab_type": "code",
        "outputId": "f60869e4-f7b4-4cda-f9ad-18eebc881a69",
        "colab": {
          "base_uri": "https://localhost:8080/",
          "height": 34
        }
      },
      "source": [
        "print(\"logloss : \",log_loss(test_y,LR_prediction))"
      ],
      "execution_count": 0,
      "outputs": [
        {
          "output_type": "stream",
          "text": [
            "logloss :  1.7145152146968106\n"
          ],
          "name": "stdout"
        }
      ]
    },
    {
      "cell_type": "code",
      "metadata": {
        "id": "VsNpaxOOXL3J",
        "colab_type": "code",
        "colab": {}
      },
      "source": [
        "submission_LR = pd.DataFrame(data=LR_prediction, columns=sample_submission.columns, index=test_x.index)\n",
        "check_LR_accuracy = pd.DataFrame(data=LR_prediction, columns=range(0,19), index=test_x.index)\n",
        "submission_LR.to_csv('submission_LR.csv', index=True)"
      ],
      "execution_count": 0,
      "outputs": []
    },
    {
      "cell_type": "code",
      "metadata": {
        "id": "1UQqWPcD1xqb",
        "colab_type": "code",
        "colab": {}
      },
      "source": [
        "# ############################################################################\n",
        "# ############ SVM\n",
        "# ############################################################################\n",
        "SVM_model = svm.SVC(kernel='rbf',random_state=2,probability=True,gamma=0.3,C=1.0)\n",
        "SVM_model.fit(train_x,train_y)\n",
        "SVM_prediction = SVM_model.predict_proba(test_x)"
      ],
      "execution_count": 0,
      "outputs": []
    },
    {
      "cell_type": "code",
      "metadata": {
        "id": "3yED-OgtVrun",
        "colab_type": "code",
        "colab": {}
      },
      "source": [
        "submission_SVM = pd.DataFrame(data=SVM_prediction, columns=sample_submission.columns, index=test_x.index)\n",
        "check_SVM_accuracy = pd.DataFrame(data=SVM_prediction, columns=range(0,19), index=test_x.index)\n",
        "submission_SVM.to_csv('submission_SVM.csv', index=True)"
      ],
      "execution_count": 0,
      "outputs": []
    },
    {
      "cell_type": "code",
      "metadata": {
        "id": "QGaLvMCJ8Vdh",
        "colab_type": "code",
        "outputId": "f8432818-31da-4827-c482-3d0ff47a92d3",
        "colab": {
          "base_uri": "https://localhost:8080/",
          "height": 175
        }
      },
      "source": [
        "################## checking################################\n",
        "a = submission_RF.iloc[:,:].idxmax(axis=1)\n",
        "# b = submission_simpleLGBM.iloc[:,:].idxmax(axis=1)\n",
        "# c = submission_LR.iloc[:,:].idxmax(axis=1)\n",
        "# d = submission_voting.iloc[:,:].idxmax(axis=1)\n",
        "\n",
        "\n",
        "c_r = check_RF_accuracy.iloc[:,:].idxmax(axis=1)\n",
        "# c_l = check_LGBM_accuracy.iloc[:,:].idxmax(axis=1)\n",
        "# c_LR = check_LR_accuracy.iloc[:,:].idxmax(axis=1)\n",
        "# c_voting = check_voting_accuracy.iloc[:,:].idxmax(axis=1)\n",
        "\n",
        "\n",
        "\n",
        "# num=0\n",
        "# for i in range(len(a)):\n",
        "#   if a.iloc[i] == b.iloc[i]:\n",
        "#     num = num + 1\n",
        "\n",
        "# print(num)\n",
        "\n",
        "def check_accuracy(check,test_y):\n",
        "  tmp_num = 0\n",
        "  for i,x in enumerate(check):\n",
        "    if x == test_y.iloc[i]:\n",
        "      tmp_num += 1\n",
        "  print(\"전체 %d중 예측 일치 : %d \" %(len(check),tmp_num))\n",
        "  print(\"%f 예측\" %(tmp_num/len(check)))\n",
        "\n",
        "print(\" #############RandomForest###############\")\n",
        "check_accuracy(c_r,test_y)\n",
        "print(\" ########################################\")\n",
        "print(\" #############LightGBM###############\")\n",
        "# check_accuracy(c_l,test_y)\n",
        "print(\" ########################################\")\n",
        "print(\" #############Logistic Regression###############\")\n",
        "# check_accuracy(c_LR,test_y)\n",
        "print(\" ########################################\")\n",
        "print(\" #############Voting###############\")\n",
        "# check_accuracy(c_voting,test_y)"
      ],
      "execution_count": 0,
      "outputs": [
        {
          "output_type": "stream",
          "text": [
            " #############RandomForest###############\n",
            "전체 49998중 예측 일치 : 17412 \n",
            "0.348254 예측\n",
            " ########################################\n",
            " #############LightGBM###############\n",
            " ########################################\n",
            " #############Logistic Regression###############\n",
            " ########################################\n",
            " #############Voting###############\n"
          ],
          "name": "stdout"
        }
      ]
    },
    {
      "cell_type": "code",
      "metadata": {
        "id": "cDMjkj8NTbRG",
        "colab_type": "code",
        "colab": {}
      },
      "source": [
        "############################################################################\n",
        "# Voting\n",
        "############################################################################\n",
        "clf_1 = LogisticRegression(random_state=2, multi_class='auto', n_jobs=-1)\n",
        "clf_2 = RandomForestClassifier(n_estimators=200,random_state=2) \n",
        "clf_3 = lgb.LGBMClassifier(boosting_type='gbdt', class_weight=None, colsample_bytree=1.0,\n",
        "               importance_type='split', learning_rate=0.03, max_depth=-1,\n",
        "               min_child_samples=20, min_child_weight=0.001, min_split_gain=0.0,\n",
        "               n_estimators=500, n_jobs=-1, num_leaves=500, objective='softmax',\n",
        "               random_state=2, reg_alpha=0.0, reg_lambda=0.0, silent=True,\n",
        "               subsample=1.0, subsample_for_bin=200000, subsample_freq=0)\n",
        "\n",
        "voting_clf = VotingClassifier(estimators=[('svm',SVM_model),('rf',clf_2),('lgbm',clf_3)],voting='soft')\n",
        "voting_clf.fit(res_train_x,res_train_y)\n",
        "voting_prediction = voting_clf.predict_proba(res_test_x)\n",
        "\n",
        "#### 최근우 읽기\n"
      ],
      "execution_count": 0,
      "outputs": []
    },
    {
      "cell_type": "code",
      "metadata": {
        "id": "M_IHUPwJwN6G",
        "colab_type": "code",
        "outputId": "04e2f8d1-1bbd-4197-b361-2b97eeeb0841",
        "colab": {
          "base_uri": "https://localhost:8080/",
          "height": 204
        }
      },
      "source": [
        "submission_voting = pd.DataFrame(data=voting_prediction, columns=sample_submission.columns, index=res_test_x.index)\n",
        "check_voting_accuracy = pd.DataFrame(data=voting_prediction, columns=range(0,19), index=res_test_x.index)\n",
        "submission_voting.to_csv('submission_voting.csv', index=True)"
      ],
      "execution_count": 0,
      "outputs": [
        {
          "output_type": "error",
          "ename": "NameError",
          "evalue": "ignored",
          "traceback": [
            "\u001b[0;31m---------------------------------------------------------------------------\u001b[0m",
            "\u001b[0;31mNameError\u001b[0m                                 Traceback (most recent call last)",
            "\u001b[0;32m<ipython-input-1-231416a213a1>\u001b[0m in \u001b[0;36m<module>\u001b[0;34m()\u001b[0m\n\u001b[0;32m----> 1\u001b[0;31m \u001b[0msubmission_voting\u001b[0m \u001b[0;34m=\u001b[0m \u001b[0mpd\u001b[0m\u001b[0;34m.\u001b[0m\u001b[0mDataFrame\u001b[0m\u001b[0;34m(\u001b[0m\u001b[0mdata\u001b[0m\u001b[0;34m=\u001b[0m\u001b[0mvoting_prediction\u001b[0m\u001b[0;34m,\u001b[0m \u001b[0mcolumns\u001b[0m\u001b[0;34m=\u001b[0m\u001b[0msample_submission\u001b[0m\u001b[0;34m.\u001b[0m\u001b[0mcolumns\u001b[0m\u001b[0;34m,\u001b[0m \u001b[0mindex\u001b[0m\u001b[0;34m=\u001b[0m\u001b[0mres_test_x\u001b[0m\u001b[0;34m.\u001b[0m\u001b[0mindex\u001b[0m\u001b[0;34m)\u001b[0m\u001b[0;34m\u001b[0m\u001b[0;34m\u001b[0m\u001b[0m\n\u001b[0m\u001b[1;32m      2\u001b[0m \u001b[0mcheck_voting_accuracy\u001b[0m \u001b[0;34m=\u001b[0m \u001b[0mpd\u001b[0m\u001b[0;34m.\u001b[0m\u001b[0mDataFrame\u001b[0m\u001b[0;34m(\u001b[0m\u001b[0mdata\u001b[0m\u001b[0;34m=\u001b[0m\u001b[0mvoting_prediction\u001b[0m\u001b[0;34m,\u001b[0m \u001b[0mcolumns\u001b[0m\u001b[0;34m=\u001b[0m\u001b[0mrange\u001b[0m\u001b[0;34m(\u001b[0m\u001b[0;36m0\u001b[0m\u001b[0;34m,\u001b[0m\u001b[0;36m19\u001b[0m\u001b[0;34m)\u001b[0m\u001b[0;34m,\u001b[0m \u001b[0mindex\u001b[0m\u001b[0;34m=\u001b[0m\u001b[0mres_test_x\u001b[0m\u001b[0;34m.\u001b[0m\u001b[0mindex\u001b[0m\u001b[0;34m)\u001b[0m\u001b[0;34m\u001b[0m\u001b[0;34m\u001b[0m\u001b[0m\n\u001b[1;32m      3\u001b[0m \u001b[0msubmission_voting\u001b[0m\u001b[0;34m.\u001b[0m\u001b[0mto_csv\u001b[0m\u001b[0;34m(\u001b[0m\u001b[0;34m'submission_voting.csv'\u001b[0m\u001b[0;34m,\u001b[0m \u001b[0mindex\u001b[0m\u001b[0;34m=\u001b[0m\u001b[0;32mTrue\u001b[0m\u001b[0;34m)\u001b[0m\u001b[0;34m\u001b[0m\u001b[0;34m\u001b[0m\u001b[0m\n",
            "\u001b[0;31mNameError\u001b[0m: name 'pd' is not defined"
          ]
        }
      ]
    }
  ]
}
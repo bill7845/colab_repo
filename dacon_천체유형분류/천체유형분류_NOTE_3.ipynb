{
  "nbformat": 4,
  "nbformat_minor": 0,
  "metadata": {
    "kernelspec": {
      "name": "python3",
      "display_name": "Python 3"
    },
    "language_info": {
      "codemirror_mode": {
        "name": "ipython",
        "version": 3
      },
      "file_extension": ".py",
      "mimetype": "text/x-python",
      "name": "python",
      "nbconvert_exporter": "python",
      "pygments_lexer": "ipython3",
      "version": "3.7.4"
    },
    "colab": {
      "name": "천체유형분류_NOTE_3.ipynb",
      "provenance": [],
      "collapsed_sections": [],
      "machine_shape": "hm",
      "include_colab_link": true
    },
    "accelerator": "TPU"
  },
  "cells": [
    {
      "cell_type": "markdown",
      "metadata": {
        "id": "view-in-github",
        "colab_type": "text"
      },
      "source": [
        "<a href=\"https://colab.research.google.com/github/bill7845/colab_repo/blob/master/dacon_%EC%B2%9C%EC%B2%B4%EC%9C%A0%ED%98%95%EB%B6%84%EB%A5%98/%EC%B2%9C%EC%B2%B4%EC%9C%A0%ED%98%95%EB%B6%84%EB%A5%98_NOTE_3.ipynb\" target=\"_parent\"><img src=\"https://colab.research.google.com/assets/colab-badge.svg\" alt=\"Open In Colab\"/></a>"
      ]
    },
    {
      "cell_type": "code",
      "metadata": {
        "id": "Ql4qZgpcTbm8",
        "colab_type": "code",
        "outputId": "9274a965-e1b7-4169-ca5d-a83db9c7c636",
        "colab": {
          "base_uri": "https://localhost:8080/",
          "height": 90
        }
      },
      "source": [
        "import pandas as pd\n",
        "import numpy as np\n",
        "import missingno as msno\n",
        "import scipy as sp\n",
        "\n",
        "import matplotlib.pyplot as plt\n",
        "import seaborn as sns\n",
        "\n",
        "from sklearn.model_selection import train_test_split,GridSearchCV,KFold,cross_val_score\n",
        "from sklearn.preprocessing import LabelEncoder\n",
        "from sklearn.metrics import accuracy_score,log_loss\n",
        "from sklearn.tree import DecisionTreeClassifier\n",
        "from sklearn.preprocessing import StandardScaler\n",
        "from sklearn.preprocessing import MinMaxScaler\n",
        "from sklearn import svm\n",
        "from sklearn.ensemble import RandomForestClassifier, GradientBoostingClassifier,AdaBoostClassifier,VotingClassifier,BaggingClassifier\n",
        "from sklearn.linear_model import LogisticRegression\n",
        "from sklearn import metrics\n",
        "from sklearn.pipeline import Pipeline\n",
        "\n",
        "from sklearn.decomposition import PCA\n",
        "from sklearn.decomposition import KernelPCA\n",
        "from sklearn.preprocessing import StandardScaler\n",
        "from sklearn.metrics import roc_curve\n",
        "from yellowbrick.classifier import ROCAUC\n",
        "from sklearn.metrics import classification_report\n",
        "\n",
        "from xgboost import XGBClassifier\n",
        "import xgboost as xgb\n",
        "import lightgbm as lgb\n",
        "from sklearn.model_selection import train_test_split, StratifiedKFold, GridSearchCV\n",
        "\n",
        "sns.set()\n",
        "\n",
        "%matplotlib inline\n",
        "%precision 3"
      ],
      "execution_count": 0,
      "outputs": [
        {
          "output_type": "stream",
          "text": [
            "/usr/local/lib/python3.6/dist-packages/sklearn/utils/deprecation.py:144: FutureWarning: The sklearn.metrics.classification module is  deprecated in version 0.22 and will be removed in version 0.24. The corresponding classes / functions should instead be imported from sklearn.metrics. Anything that cannot be imported from sklearn.metrics is now part of the private API.\n",
            "  warnings.warn(message, FutureWarning)\n"
          ],
          "name": "stderr"
        },
        {
          "output_type": "execute_result",
          "data": {
            "text/plain": [
              "'%.3f'"
            ]
          },
          "metadata": {
            "tags": []
          },
          "execution_count": 1
        }
      ]
    },
    {
      "cell_type": "code",
      "metadata": {
        "id": "DG-A4r_iTbnI",
        "colab_type": "code",
        "colab": {}
      },
      "source": [
        "# train = pd.read_csv('C:/Users/KIHyuk/Desktop/dacon_data/Data_천체유형분류/train.csv',index_col=0)\n",
        "# test = pd.read_csv('C:/Users/KIHyuk/Desktop/dacon_data/Data_천체유형분류/test.csv',index_col=0)\n",
        "# sample_submission = pd.read_csv('C:/Users/KIHyuk/Desktop/dacon_data/Data_천체유형분류/sample_submission.csv',index_col=0)\n",
        "\n",
        "train = pd.read_csv('/content/drive/My Drive/Colab Notebooks/dacon_천체유형분류/train.csv',index_col=0)\n",
        "test = pd.read_csv('/content/drive/My Drive/Colab Notebooks/dacon_천체유형분류/test.csv',index_col=0)\n",
        "sample_submission = pd.read_csv('/content/drive/My Drive/Colab Notebooks/dacon_천체유형분류/sample_submission.csv',index_col=0)"
      ],
      "execution_count": 0,
      "outputs": []
    },
    {
      "cell_type": "code",
      "metadata": {
        "id": "ORcXFo6UTbnQ",
        "colab_type": "code",
        "colab": {}
      },
      "source": [
        "## data preprocessing\n",
        "\n",
        "column_number = {}\n",
        "for i, column in enumerate(sample_submission.columns):\n",
        "    column_number[column] = i\n",
        "    \n",
        "def to_number(x, dic):\n",
        "    return dic[x]\n",
        "\n",
        "train['type_num'] = train['type'].apply(lambda x: to_number(x, column_number))\n",
        "\n",
        "train = train.drop(['fiberID'],axis=1) # del fiberID column\n",
        "test = test.drop(['fiberID'],axis=1)\n",
        "\n",
        "# split train/test\n",
        "# strtify => 클래스 비율 유지\n",
        "train_x,test_x,train_y,test_y = train_test_split(train.drop(columns=['type', 'type_num'], axis=1),train['type_num'],random_state=2,stratify=train['type_num'])\n",
        "\n",
        "# for submission\n",
        "res_train_x = train.drop(columns=['type', 'type_num'], axis=1)\n",
        "res_train_y = train['type_num']\n",
        "res_test_x = test"
      ],
      "execution_count": 0,
      "outputs": []
    },
    {
      "cell_type": "code",
      "metadata": {
        "id": "dDiMQP4TTbnX",
        "colab_type": "code",
        "outputId": "560a1e4d-ffaa-452a-8a77-76a1a96a4d9f",
        "colab": {}
      },
      "source": [
        "# pca = PCA(n_components=0.95,random_state=2)\n",
        "# pca_train_x = pca.fit_transform(sc_train_x)\n",
        "# pca_test_x = pca.transform(sc_test_x) # * transform \n",
        "\n",
        "# print('explained variance ratio :', pca.explained_variance_ratio_) # 주성분별 분산 설명 비율 (*설명비율)\n",
        "# print('선택한 차원(픽셀) 수 :', pca.n_components_) # 95%의 분산 설명을 위해 몇개의 차원을 선택했는가"
      ],
      "execution_count": 0,
      "outputs": [
        {
          "output_type": "stream",
          "text": [
            "explained variance ratio : [0.383 0.14  0.079 0.069 0.058 0.049 0.045 0.043 0.033 0.029 0.026]\n",
            "선택한 차원(픽셀) 수 : 11\n"
          ],
          "name": "stdout"
        }
      ]
    },
    {
      "cell_type": "code",
      "metadata": {
        "id": "8FLt7DopTbne",
        "colab_type": "code",
        "colab": {}
      },
      "source": [
        "data = [train_x,train_y,test_x,test_y]\n",
        "model_info_lr = ['logistic',LogisticRegression()]\n",
        "model_info_rf = ['rf',RandomForestClassifier()]\n",
        "model_info_lgb = ['lgb',lgb.LGBMClassifier()]\n",
        "\n",
        "grid_params_lr = [{'logistic__penalty': ['l1','l2'],\n",
        "                   'logistic__C': [0.001,0.01,1,10,100],\n",
        "                   'logistic__solver': ['lbfgs'],\n",
        "                   'logistic__random_state':[2],\n",
        "                   'logistic__multi_class' : ['multinomial']\n",
        "                  }] \n",
        "\n",
        "\n",
        "grid_params_rf = [{'rf__n_estimators' : [100,200,300],\n",
        "                   'rf__max_depth' : [5,15,25],\n",
        "                   'rf__min_samples_split' : [1,5,15],\n",
        "                   'rf__min_samples_leaf' : [1,5,10],\n",
        "                   'rf__n_jobs' : [-1],\n",
        "                   'rf__random_state' : [2]\n",
        "                   }]\n",
        "\n",
        "grid_params_lgb = [{'lgb__num_leaves' : [500,600],\n",
        "                    'lgb__n_estimators' : [100,300],\n",
        "                    'lgb__reg_alpha' : [0.1,0.5],\n",
        "                    'lgb__min_data_in_leaf' : [30,50],\n",
        "                    'lgb__objective' : ['softmax'],\n",
        "                    'lgb__learning_rate' : [0.03,0.01],\n",
        "                    'lgb__metric' : ['softmax'],\n",
        "                    'lgb__random_state' : [2],\n",
        "                    'lgb__max_depth' : [12,-1],\n",
        "                    'lgb__n_jobs' : [-1]\n",
        "                    }]           "
      ],
      "execution_count": 0,
      "outputs": []
    },
    {
      "cell_type": "code",
      "metadata": {
        "id": "dRHlyzdRPvlY",
        "colab_type": "code",
        "colab": {}
      },
      "source": [
        "lgb.LGBMClassifier()"
      ],
      "execution_count": 0,
      "outputs": []
    },
    {
      "cell_type": "code",
      "metadata": {
        "id": "zYH_8iIUPuTK",
        "colab_type": "code",
        "colab": {}
      },
      "source": [
        "n_estimators=100"
      ],
      "execution_count": 0,
      "outputs": []
    },
    {
      "cell_type": "code",
      "metadata": {
        "id": "EQAZ1WPJTbn0",
        "colab_type": "code",
        "colab": {}
      },
      "source": [
        "# 왜 파이프라인을 통해 교차검증을 진행하는게 중요한가\n",
        "# https://woolulu.tistory.com/80?category=783167\n",
        "\n",
        "target_name = list(train['type'].unique())\n",
        "def modeling(data, model_info, params, target_name): # target_name 고정시키기\n",
        "    \n",
        "    train_x,train_y = data[0],data[1]\n",
        "    test_x,test_y = data[2],data[3]\n",
        "    \n",
        "    scaler = ('scaler',StandardScaler())\n",
        "    model = (model_info[0],model_info[1])\n",
        "    pipe = Pipeline([scaler,model])\n",
        "    \n",
        "    grid = GridSearchCV(pipe, param_grid=params, cv=2,n_jobs=-1,refit=True) # refit => True\n",
        "    grid.fit(train_x,train_y)\n",
        "    \n",
        "    best_param = grid.best_params_\n",
        "    print(\"####################################################\")\n",
        "    print(\"best params:{}\".format(grid.best_params_))\n",
        "    print(\"####################################################\")\n",
        "    print(\"\\n\\n\")\n",
        "    \n",
        "    predict = grid.predict(test_x) # refit=True => best params로 예측 \n",
        "    print(classification_report(test_y,predict,target_names=target_name))\n",
        "    print(\"\\n\\n\")\n",
        "    \n",
        "    predict_proba = grid.predict_proba(test_x)\n",
        "    print(\"####################################################\")\n",
        "    print(\"logloss : \",log_loss(test_y,predict_proba))\n",
        "    print(\"####################################################\")\n",
        "    print(\"\\n\\n\")\n",
        "    \n",
        "    result_list = [best_param,predict,predict_proba]\n",
        "    \n",
        "    return result_list"
      ],
      "execution_count": 0,
      "outputs": []
    },
    {
      "cell_type": "code",
      "metadata": {
        "id": "NHPLpjXHTbno",
        "colab_type": "code",
        "outputId": "39db4576-1935-49e8-908c-cedd76d0497c",
        "colab": {
          "base_uri": "https://localhost:8080/",
          "height": 1000
        }
      },
      "source": [
        "modeling(data,model_info_lr,grid_params_lr,target_name)"
      ],
      "execution_count": 0,
      "outputs": [
        {
          "output_type": "stream",
          "text": [
            "/usr/local/lib/python3.6/dist-packages/sklearn/linear_model/_logistic.py:940: ConvergenceWarning: lbfgs failed to converge (status=1):\n",
            "STOP: TOTAL NO. of ITERATIONS REACHED LIMIT.\n",
            "\n",
            "Increase the number of iterations (max_iter) or scale the data as shown in:\n",
            "    https://scikit-learn.org/stable/modules/preprocessing.html\n",
            "Please also refer to the documentation for alternative solver options:\n",
            "    https://scikit-learn.org/stable/modules/linear_model.html#logistic-regression\n",
            "  extra_warning_msg=_LOGISTIC_SOLVER_CONVERGENCE_MSG)\n",
            "/usr/local/lib/python3.6/dist-packages/sklearn/metrics/_classification.py:1272: UndefinedMetricWarning: Precision and F-score are ill-defined and being set to 0.0 in labels with no predicted samples. Use `zero_division` parameter to control this behavior.\n",
            "  _warn_prf(average, modifier, msg_start, len(result))\n"
          ],
          "name": "stderr"
        },
        {
          "output_type": "stream",
          "text": [
            "####################################################\n",
            "best params:{'logistic__C': 100, 'logistic__multi_class': 'multinomial', 'logistic__penalty': 'l2', 'logistic__random_state': 2, 'logistic__solver': 'lbfgs'}\n",
            "####################################################\n",
            "\n",
            "\n",
            "\n",
            "                     precision    recall  f1-score   support\n",
            "\n",
            "                QSO       0.00      0.00      0.00       540\n",
            "     STAR_RED_DWARF       0.77      0.94      0.85      1627\n",
            "   SERENDIPITY_BLUE       0.00      0.00      0.00       125\n",
            "           STAR_BHB       0.41      0.09      0.15       640\n",
            "      STAR_CATY_VAR       0.61      0.57      0.59      3655\n",
            "SERENDIPITY_DISTANT       0.21      0.13      0.16      3375\n",
            "             GALAXY       0.87      0.98      0.92      9337\n",
            "   SPECTROPHOTO_STD       0.00      0.00      0.00      1163\n",
            "         REDDEN_STD       0.60      0.81      0.69     12420\n",
            "            ROSAT_D       0.00      0.00      0.00        32\n",
            "   STAR_WHITE_DWARF       0.75      0.98      0.85      3438\n",
            "    SERENDIPITY_RED       0.17      0.00      0.00      1645\n",
            "        STAR_CARBON       0.00      0.00      0.00         3\n",
            "  SERENDIPITY_FIRST       0.41      0.06      0.10      1783\n",
            "   STAR_BROWN_DWARF       0.00      0.00      0.00       814\n",
            "     STAR_SUB_DWARF       0.71      0.98      0.82      3658\n",
            "                SKY       0.00      0.00      0.00       288\n",
            " SERENDIPITY_MANUAL       0.00      0.00      0.00        15\n",
            "            STAR_PN       0.38      0.37      0.37      5440\n",
            "\n",
            "           accuracy                           0.65     49998\n",
            "          macro avg       0.31      0.31      0.29     49998\n",
            "       weighted avg       0.57      0.65      0.59     49998\n",
            "\n",
            "\n",
            "\n",
            "\n",
            "####################################################\n",
            "logloss :  1.216568421816409\n",
            "####################################################\n",
            "\n",
            "\n",
            "\n"
          ],
          "name": "stdout"
        },
        {
          "output_type": "execute_result",
          "data": {
            "text/plain": [
              "[{'logistic__C': 100,\n",
              "  'logistic__multi_class': 'multinomial',\n",
              "  'logistic__penalty': 'l2',\n",
              "  'logistic__random_state': 2,\n",
              "  'logistic__solver': 'lbfgs'},\n",
              " array([15,  4,  8, ..., 10, 10,  8]),\n",
              " array([[4.341e-03, 3.783e-02, 1.553e-04, ..., 1.660e-03, 2.917e-11,\n",
              "         5.969e-03],\n",
              "        [2.508e-02, 3.201e-02, 2.534e-03, ..., 7.202e-03, 1.646e-10,\n",
              "         1.078e-01],\n",
              "        [3.101e-02, 6.170e-02, 1.336e-02, ..., 2.262e-02, 3.576e-10,\n",
              "         4.175e-02],\n",
              "        ...,\n",
              "        [2.016e-02, 1.317e-01, 2.235e-02, ..., 3.568e-02, 3.824e-10,\n",
              "         1.632e-02],\n",
              "        [1.438e-03, 2.067e-02, 7.034e-03, ..., 7.589e-03, 5.128e-11,\n",
              "         3.475e-04],\n",
              "        [7.412e-03, 5.651e-03, 2.003e-02, ..., 8.842e-03, 1.311e-10,\n",
              "         1.643e-02]])]"
            ]
          },
          "metadata": {
            "tags": []
          },
          "execution_count": 16
        }
      ]
    },
    {
      "cell_type": "code",
      "metadata": {
        "id": "D6t4g1mI1Pg8",
        "colab_type": "code",
        "outputId": "5de48117-c345-40d0-db87-b43a4c3a8564",
        "colab": {
          "base_uri": "https://localhost:8080/",
          "height": 1000
        }
      },
      "source": [
        "modeling(data,model_info_rf,grid_params_rf,target_name)"
      ],
      "execution_count": 0,
      "outputs": [
        {
          "output_type": "stream",
          "text": [
            "/usr/local/lib/python3.6/dist-packages/joblib/externals/loky/process_executor.py:706: UserWarning: A worker stopped while some jobs were given to the executor. This can be caused by a too short worker timeout or by a memory leak.\n",
            "  \"timeout or by a memory leak.\", UserWarning\n"
          ],
          "name": "stderr"
        },
        {
          "output_type": "stream",
          "text": [
            "####################################################\n",
            "best params:{'rf__max_depth': 25, 'rf__min_samples_leaf': 1, 'rf__min_samples_split': 5, 'rf__n_estimators': 300, 'rf__n_jobs': -1, 'rf__random_state': 2}\n",
            "####################################################\n",
            "\n",
            "\n",
            "\n",
            "                     precision    recall  f1-score   support\n",
            "\n",
            "                QSO       0.46      0.42      0.44       540\n",
            "     STAR_RED_DWARF       0.96      0.97      0.96      1627\n",
            "   SERENDIPITY_BLUE       0.63      0.38      0.47       125\n",
            "           STAR_BHB       0.80      0.83      0.82       640\n",
            "      STAR_CATY_VAR       0.90      0.98      0.93      3655\n",
            "SERENDIPITY_DISTANT       0.85      0.89      0.87      3375\n",
            "             GALAXY       0.97      0.98      0.97      9337\n",
            "   SPECTROPHOTO_STD       0.54      0.44      0.48      1163\n",
            "         REDDEN_STD       0.89      0.87      0.88     12420\n",
            "            ROSAT_D       0.82      0.97      0.89        32\n",
            "   STAR_WHITE_DWARF       0.97      0.98      0.97      3438\n",
            "    SERENDIPITY_RED       0.62      0.28      0.38      1645\n",
            "        STAR_CARBON       1.00      0.33      0.50         3\n",
            "  SERENDIPITY_FIRST       0.76      0.60      0.67      1783\n",
            "   STAR_BROWN_DWARF       0.81      0.93      0.87       814\n",
            "     STAR_SUB_DWARF       0.94      0.97      0.96      3658\n",
            "                SKY       0.87      0.95      0.91       288\n",
            " SERENDIPITY_MANUAL       1.00      0.13      0.24        15\n",
            "            STAR_PN       0.72      0.85      0.78      5440\n",
            "\n",
            "           accuracy                           0.87     49998\n",
            "          macro avg       0.82      0.72      0.74     49998\n",
            "       weighted avg       0.87      0.87      0.86     49998\n",
            "\n",
            "\n",
            "\n",
            "\n",
            "####################################################\n",
            "logloss :  0.3881045053134216\n",
            "####################################################\n",
            "\n",
            "\n",
            "\n"
          ],
          "name": "stdout"
        },
        {
          "output_type": "execute_result",
          "data": {
            "text/plain": [
              "[{'rf__max_depth': 25,\n",
              "  'rf__min_samples_leaf': 1,\n",
              "  'rf__min_samples_split': 5,\n",
              "  'rf__n_estimators': 300,\n",
              "  'rf__n_jobs': -1,\n",
              "  'rf__random_state': 2},\n",
              " array([15,  4, 14, ..., 16, 10, 13]),\n",
              " array([[0.000e+00, 0.000e+00, 0.000e+00, ..., 0.000e+00, 0.000e+00,\n",
              "         0.000e+00],\n",
              "        [3.512e-04, 0.000e+00, 0.000e+00, ..., 0.000e+00, 0.000e+00,\n",
              "         0.000e+00],\n",
              "        [7.898e-02, 0.000e+00, 0.000e+00, ..., 0.000e+00, 0.000e+00,\n",
              "         0.000e+00],\n",
              "        ...,\n",
              "        [0.000e+00, 0.000e+00, 0.000e+00, ..., 6.870e-01, 0.000e+00,\n",
              "         0.000e+00],\n",
              "        [0.000e+00, 0.000e+00, 6.685e-07, ..., 0.000e+00, 0.000e+00,\n",
              "         0.000e+00],\n",
              "        [0.000e+00, 0.000e+00, 0.000e+00, ..., 0.000e+00, 4.990e-06,\n",
              "         0.000e+00]])]"
            ]
          },
          "metadata": {
            "tags": []
          },
          "execution_count": 11
        }
      ]
    },
    {
      "cell_type": "code",
      "metadata": {
        "id": "juJ4lX_jL2Z4",
        "colab_type": "code",
        "outputId": "df14926b-5f16-409e-95c0-a0a654f0248c",
        "colab": {
          "base_uri": "https://localhost:8080/",
          "height": 1000
        }
      },
      "source": [
        "modeling(data,model_info_lgb,grid_params_lgb,target_name)"
      ],
      "execution_count": 0,
      "outputs": [
        {
          "output_type": "stream",
          "text": [
            "/usr/local/lib/python3.6/dist-packages/joblib/externals/loky/process_executor.py:706: UserWarning: A worker stopped while some jobs were given to the executor. This can be caused by a too short worker timeout or by a memory leak.\n",
            "  \"timeout or by a memory leak.\", UserWarning\n"
          ],
          "name": "stderr"
        },
        {
          "output_type": "stream",
          "text": [
            "####################################################\n",
            "best params:{'lgb__learning_rate': 0.03, 'lgb__max_depth': 12, 'lgb__metric': 'softmax', 'lgb__min_data_in_leaf': 30, 'lgb__n_estimators': 300, 'lgb__n_jobs': -1, 'lgb__num_leaves': 500, 'lgb__objective': 'softmax', 'lgb__random_state': 2, 'lgb__reg_alpha': 0.1}\n",
            "####################################################\n",
            "\n",
            "\n",
            "\n",
            "                     precision    recall  f1-score   support\n",
            "\n",
            "                QSO       0.46      0.42      0.44       540\n",
            "     STAR_RED_DWARF       0.96      0.96      0.96      1627\n",
            "   SERENDIPITY_BLUE       0.61      0.46      0.52       125\n",
            "           STAR_BHB       0.80      0.82      0.81       640\n",
            "      STAR_CATY_VAR       0.89      0.97      0.93      3655\n",
            "SERENDIPITY_DISTANT       0.85      0.88      0.86      3375\n",
            "             GALAXY       0.97      0.98      0.97      9337\n",
            "   SPECTROPHOTO_STD       0.53      0.47      0.50      1163\n",
            "         REDDEN_STD       0.89      0.86      0.88     12420\n",
            "            ROSAT_D       0.70      0.97      0.82        32\n",
            "   STAR_WHITE_DWARF       0.96      0.98      0.97      3438\n",
            "    SERENDIPITY_RED       0.59      0.29      0.39      1645\n",
            "        STAR_CARBON       0.25      0.33      0.29         3\n",
            "  SERENDIPITY_FIRST       0.75      0.61      0.67      1783\n",
            "   STAR_BROWN_DWARF       0.82      0.93      0.87       814\n",
            "     STAR_SUB_DWARF       0.93      0.97      0.95      3658\n",
            "                SKY       0.89      0.94      0.91       288\n",
            " SERENDIPITY_MANUAL       1.00      0.07      0.12        15\n",
            "            STAR_PN       0.72      0.84      0.78      5440\n",
            "\n",
            "           accuracy                           0.87     49998\n",
            "          macro avg       0.77      0.72      0.72     49998\n",
            "       weighted avg       0.86      0.87      0.86     49998\n",
            "\n",
            "\n",
            "\n",
            "\n",
            "####################################################\n",
            "logloss :  0.38712183474183914\n",
            "####################################################\n",
            "\n",
            "\n",
            "\n"
          ],
          "name": "stdout"
        },
        {
          "output_type": "execute_result",
          "data": {
            "text/plain": [
              "[{'lgb__learning_rate': 0.030,\n",
              "  'lgb__max_depth': 12,\n",
              "  'lgb__metric': 'softmax',\n",
              "  'lgb__min_data_in_leaf': 30,\n",
              "  'lgb__n_estimators': 300,\n",
              "  'lgb__n_jobs': -1,\n",
              "  'lgb__num_leaves': 500,\n",
              "  'lgb__objective': 'softmax',\n",
              "  'lgb__random_state': 2,\n",
              "  'lgb__reg_alpha': 0.100},\n",
              " array([15,  4, 14, ..., 16, 10, 13]),\n",
              " array([[1.185e-03, 2.265e-04, 1.757e-05, ..., 4.030e-05, 8.202e-06,\n",
              "         8.120e-04],\n",
              "        [1.480e-03, 2.836e-04, 1.446e-05, ..., 3.316e-05, 4.948e-06,\n",
              "         1.469e-03],\n",
              "        [8.613e-02, 1.468e-03, 1.589e-04, ..., 8.806e-05, 8.467e-06,\n",
              "         1.837e-03],\n",
              "        ...,\n",
              "        [7.766e-05, 1.679e-04, 1.242e-04, ..., 8.364e-01, 4.349e-06,\n",
              "         5.129e-04],\n",
              "        [9.146e-06, 2.565e-05, 1.291e-05, ..., 1.155e-05, 5.748e-06,\n",
              "         8.190e-05],\n",
              "        [3.143e-05, 8.817e-05, 8.353e-06, ..., 1.619e-05, 2.007e-06,\n",
              "         2.824e-04]])]"
            ]
          },
          "metadata": {
            "tags": []
          },
          "execution_count": 17
        }
      ]
    }
  ]
}
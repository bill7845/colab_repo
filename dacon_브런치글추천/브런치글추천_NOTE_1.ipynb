{
  "nbformat": 4,
  "nbformat_minor": 0,
  "metadata": {
    "colab": {
      "name": "브런치글추천_NOTE_1.ipynb",
      "provenance": [],
      "collapsed_sections": [],
      "machine_shape": "hm",
      "mount_file_id": "19ivssxr7_76tOUxnZjk5jsQo5_nUUpaa",
      "authorship_tag": "ABX9TyNFAcDI1+DoHELTz9RxKMvf",
      "include_colab_link": true
    },
    "kernelspec": {
      "name": "python3",
      "display_name": "Python 3"
    },
    "accelerator": "GPU"
  },
  "cells": [
    {
      "cell_type": "markdown",
      "metadata": {
        "id": "view-in-github",
        "colab_type": "text"
      },
      "source": [
        "<a href=\"https://colab.research.google.com/github/bill7845/colab_repo/blob/master/dacon_%EB%B8%8C%EB%9F%B0%EC%B9%98%EA%B8%80%EC%B6%94%EC%B2%9C/%EB%B8%8C%EB%9F%B0%EC%B9%98%EA%B8%80%EC%B6%94%EC%B2%9C_NOTE_1.ipynb\" target=\"_parent\"><img src=\"https://colab.research.google.com/assets/colab-badge.svg\" alt=\"Open In Colab\"/></a>"
      ]
    },
    {
      "cell_type": "code",
      "metadata": {
        "id": "w3FAWJ03K8Of",
        "colab_type": "code",
        "colab": {}
      },
      "source": [
        "from collections import Counter\n",
        "from datetime import timedelta, datetime\n",
        "import glob\n",
        "from itertools import chain\n",
        "import json\n",
        "import os\n",
        "import re\n",
        "\n",
        "import matplotlib.pyplot as plt\n",
        "import numpy as np\n",
        "import pandas as pd\n",
        "from pandas.plotting import register_matplotlib_converters\n",
        "import seaborn as sns\n",
        "\n",
        "import matplotlib\n",
        "import matplotlib.pyplot as plt\n",
        "import matplotlib.font_manager as fm\n",
        "# font_path = '/usr/share/fonts/NanumGothic.ttf'\n",
        "# font_name = fm.FontProperties(fname=font_path, size=10).get_name()\n",
        "# plt.rc('font', family=font_name, size=12)\n",
        "# plt.rcParams[\"figure.figsize\"] = (20, 10)\n",
        "# register_matplotlib_converters()"
      ],
      "execution_count": 0,
      "outputs": []
    },
    {
      "cell_type": "code",
      "metadata": {
        "id": "mhWTMyJaLaej",
        "colab_type": "code",
        "colab": {}
      },
      "source": [
        "directory = '/content/drive/My Drive/Colab data/카카오아레나_브런치데이터/'"
      ],
      "execution_count": 0,
      "outputs": []
    },
    {
      "cell_type": "markdown",
      "metadata": {
        "id": "h7Ry-uepMxzr",
        "colab_type": "text"
      },
      "source": [
        "**1. Data Read**\n",
        "\n",
        "a. magazine\n",
        "\n",
        "magazine.json: 매거진 정보\n",
        "\n",
        "\n",
        "\n",
        "*   총 27,967개의 브런치 매거진 정보입니다.\n",
        "*   필드 설명\n",
        "    *   id : 매거진 식별자\n",
        "    *   magazine_tag_list : 작가가 부여한 매거진의 태그정보"
      ]
    },
    {
      "cell_type": "code",
      "metadata": {
        "id": "MGOuA7NeMimO",
        "colab_type": "code",
        "colab": {}
      },
      "source": [
        "magazine = pd.read_json(directory + 'magazine.json', lines=True)"
      ],
      "execution_count": 0,
      "outputs": []
    },
    {
      "cell_type": "code",
      "metadata": {
        "id": "iCMW1MvwOTIs",
        "colab_type": "code",
        "colab": {
          "base_uri": "https://localhost:8080/",
          "height": 34
        },
        "outputId": "3e45b1bf-b8e0-42d5-a85f-04d63199ce46"
      },
      "source": [
        "magazine.shape"
      ],
      "execution_count": 5,
      "outputs": [
        {
          "output_type": "execute_result",
          "data": {
            "text/plain": [
              "(27967, 2)"
            ]
          },
          "metadata": {
            "tags": []
          },
          "execution_count": 5
        }
      ]
    },
    {
      "cell_type": "code",
      "metadata": {
        "id": "HSLsySL9OTM6",
        "colab_type": "code",
        "colab": {
          "base_uri": "https://localhost:8080/",
          "height": 195
        },
        "outputId": "2064e82c-4ee2-4723-a99c-138f48e2cf25"
      },
      "source": [
        "magazine.head()"
      ],
      "execution_count": 6,
      "outputs": [
        {
          "output_type": "execute_result",
          "data": {
            "text/html": [
              "<div>\n",
              "<style scoped>\n",
              "    .dataframe tbody tr th:only-of-type {\n",
              "        vertical-align: middle;\n",
              "    }\n",
              "\n",
              "    .dataframe tbody tr th {\n",
              "        vertical-align: top;\n",
              "    }\n",
              "\n",
              "    .dataframe thead th {\n",
              "        text-align: right;\n",
              "    }\n",
              "</style>\n",
              "<table border=\"1\" class=\"dataframe\">\n",
              "  <thead>\n",
              "    <tr style=\"text-align: right;\">\n",
              "      <th></th>\n",
              "      <th>magazine_tag_list</th>\n",
              "      <th>id</th>\n",
              "    </tr>\n",
              "  </thead>\n",
              "  <tbody>\n",
              "    <tr>\n",
              "      <th>0</th>\n",
              "      <td>[브런치북, 육아일기, 대화법, 들려주고픈이야기]</td>\n",
              "      <td>38842</td>\n",
              "    </tr>\n",
              "    <tr>\n",
              "      <th>1</th>\n",
              "      <td>[tea, food]</td>\n",
              "      <td>11540</td>\n",
              "    </tr>\n",
              "    <tr>\n",
              "      <th>2</th>\n",
              "      <td>[food]</td>\n",
              "      <td>11541</td>\n",
              "    </tr>\n",
              "    <tr>\n",
              "      <th>3</th>\n",
              "      <td>[브런치북, 일상, 시, 사람]</td>\n",
              "      <td>11546</td>\n",
              "    </tr>\n",
              "    <tr>\n",
              "      <th>4</th>\n",
              "      <td>[감성에세이, 노래, 음악에세이]</td>\n",
              "      <td>11544</td>\n",
              "    </tr>\n",
              "  </tbody>\n",
              "</table>\n",
              "</div>"
            ],
            "text/plain": [
              "             magazine_tag_list     id\n",
              "0  [브런치북, 육아일기, 대화법, 들려주고픈이야기]  38842\n",
              "1                  [tea, food]  11540\n",
              "2                       [food]  11541\n",
              "3            [브런치북, 일상, 시, 사람]  11546\n",
              "4           [감성에세이, 노래, 음악에세이]  11544"
            ]
          },
          "metadata": {
            "tags": []
          },
          "execution_count": 6
        }
      ]
    },
    {
      "cell_type": "markdown",
      "metadata": {
        "id": "v94duKIJP72l",
        "colab_type": "text"
      },
      "source": [
        "b. Metadata.json\n",
        "\n",
        "*   metadata.json : 글의 메타데이터\n",
        "\n",
        "*   643,104 줄로 구성된 글의 메타데이터입니다.\n",
        "*   이 메타데이터에는 2018년 10월 1일부터 2019년 3월 14일까지 독자들이 본 글에 대한 정보입니다.\n",
        "*   작가가 비공개로 전환하였거나 삭제 등의 이유로 학습 데이터로 제공된 2018년 10월 1일부터 2019년 3월 1일 전까지의 본 글 정보에는 이 메타데이터에 없는 글이 있을 수 있습니다.\n",
        "    *   개발 데이터와 평가 데이터에 포함된 글의 메타데이터도 포함되어 있습니다. 즉, 평가 대상자들이 2019년 3월 1일부터 2019년 3월 14일 사이에 본 모든 글에 대한 정보가 포함되어 있습니다.\n",
        "\n",
        "*   필드설명\n",
        "    *   magazine_id: 이 글의 브런치 매거진 아이디 (없을 시는 0)\n",
        "    *   reg_ts: 이 글이 등록된 시간(유닉스 시간, 밀리초)\n",
        "    *   user_id: 작가 아이디\n",
        "    *   article_id: 글 번호\n",
        "    *   id: 글 식별자\n",
        "    *   title: 제목\n",
        "    *   sub_title: 부제목\n",
        "    *   display_url: 웹 주소\n",
        "    *  keyword_list: 작가가 부여한 글의 태그 정보\n",
        "*   메타데이터의 모든 정보는 작가의 비공개 여부 전환, 글 삭제, 수정 등으로 유효하지 않거나 변동될 수 있습니다.\n",
        "\n",
        "\n",
        "\n",
        "\n",
        "\n",
        "\n",
        "\n",
        "\n",
        "\n",
        "\n"
      ]
    },
    {
      "cell_type": "code",
      "metadata": {
        "id": "CgLWmbrPOTHo",
        "colab_type": "code",
        "colab": {}
      },
      "source": [
        "metadata = pd.read_json(directory + 'metadata.json', lines=True)"
      ],
      "execution_count": 0,
      "outputs": []
    },
    {
      "cell_type": "code",
      "metadata": {
        "id": "QI8CPuitOTEP",
        "colab_type": "code",
        "colab": {
          "base_uri": "https://localhost:8080/",
          "height": 34
        },
        "outputId": "63f229ee-1a57-45a1-cc0c-d638a064eac7"
      },
      "source": [
        "metadata.shape"
      ],
      "execution_count": 8,
      "outputs": [
        {
          "output_type": "execute_result",
          "data": {
            "text/plain": [
              "(643104, 9)"
            ]
          },
          "metadata": {
            "tags": []
          },
          "execution_count": 8
        }
      ]
    },
    {
      "cell_type": "code",
      "metadata": {
        "id": "Q-4XrMwJRxa8",
        "colab_type": "code",
        "colab": {
          "base_uri": "https://localhost:8080/",
          "height": 346
        },
        "outputId": "4422fc83-3071-44a7-e1e8-c0d4a87f60d2"
      },
      "source": [
        "metadata.head()"
      ],
      "execution_count": 9,
      "outputs": [
        {
          "output_type": "execute_result",
          "data": {
            "text/html": [
              "<div>\n",
              "<style scoped>\n",
              "    .dataframe tbody tr th:only-of-type {\n",
              "        vertical-align: middle;\n",
              "    }\n",
              "\n",
              "    .dataframe tbody tr th {\n",
              "        vertical-align: top;\n",
              "    }\n",
              "\n",
              "    .dataframe thead th {\n",
              "        text-align: right;\n",
              "    }\n",
              "</style>\n",
              "<table border=\"1\" class=\"dataframe\">\n",
              "  <thead>\n",
              "    <tr style=\"text-align: right;\">\n",
              "      <th></th>\n",
              "      <th>magazine_id</th>\n",
              "      <th>user_id</th>\n",
              "      <th>title</th>\n",
              "      <th>keyword_list</th>\n",
              "      <th>display_url</th>\n",
              "      <th>sub_title</th>\n",
              "      <th>reg_ts</th>\n",
              "      <th>article_id</th>\n",
              "      <th>id</th>\n",
              "    </tr>\n",
              "  </thead>\n",
              "  <tbody>\n",
              "    <tr>\n",
              "      <th>0</th>\n",
              "      <td>8982</td>\n",
              "      <td>@bookdb</td>\n",
              "      <td>사진으로 옮기기에도 아까운, 리치필드 국립공원</td>\n",
              "      <td>[여행, 호주, 국립공원]</td>\n",
              "      <td>https://brunch.co.kr/@bookdb/782</td>\n",
              "      <td>세상 어디에도 없는 호주 Top 10</td>\n",
              "      <td>1474944427000</td>\n",
              "      <td>782</td>\n",
              "      <td>@bookdb_782</td>\n",
              "    </tr>\n",
              "    <tr>\n",
              "      <th>1</th>\n",
              "      <td>12081</td>\n",
              "      <td>@kohwang56</td>\n",
              "      <td>[시] 서러운 봄</td>\n",
              "      <td>[목련꽃, 아지랑이, 동행]</td>\n",
              "      <td>https://brunch.co.kr/@kohwang56/81</td>\n",
              "      <td></td>\n",
              "      <td>1463092749000</td>\n",
              "      <td>81</td>\n",
              "      <td>@kohwang56_81</td>\n",
              "    </tr>\n",
              "    <tr>\n",
              "      <th>2</th>\n",
              "      <td>0</td>\n",
              "      <td>@hannahajink</td>\n",
              "      <td>무엇을 위해</td>\n",
              "      <td>[]</td>\n",
              "      <td>https://brunch.co.kr/@hannahajink/4</td>\n",
              "      <td>무엇 때문에</td>\n",
              "      <td>1447997287000</td>\n",
              "      <td>4</td>\n",
              "      <td>@hannahajink_4</td>\n",
              "    </tr>\n",
              "    <tr>\n",
              "      <th>3</th>\n",
              "      <td>16315</td>\n",
              "      <td>@bryceandjuli</td>\n",
              "      <td>싫다</td>\n",
              "      <td>[감정, 마음, 위로]</td>\n",
              "      <td>https://brunch.co.kr/@bryceandjuli/88</td>\n",
              "      <td></td>\n",
              "      <td>1491055161000</td>\n",
              "      <td>88</td>\n",
              "      <td>@bryceandjuli_88</td>\n",
              "    </tr>\n",
              "    <tr>\n",
              "      <th>4</th>\n",
              "      <td>29363</td>\n",
              "      <td>@mijeongpark</td>\n",
              "      <td>Dubliner#7</td>\n",
              "      <td>[유럽여행, 더블린, 아일랜드]</td>\n",
              "      <td>https://brunch.co.kr/@mijeongpark/34</td>\n",
              "      <td>#7. 내 친구의 집은 어디인가</td>\n",
              "      <td>1523292942000</td>\n",
              "      <td>34</td>\n",
              "      <td>@mijeongpark_34</td>\n",
              "    </tr>\n",
              "  </tbody>\n",
              "</table>\n",
              "</div>"
            ],
            "text/plain": [
              "   magazine_id        user_id  ... article_id                id\n",
              "0         8982        @bookdb  ...        782       @bookdb_782\n",
              "1        12081     @kohwang56  ...         81     @kohwang56_81\n",
              "2            0   @hannahajink  ...          4    @hannahajink_4\n",
              "3        16315  @bryceandjuli  ...         88  @bryceandjuli_88\n",
              "4        29363   @mijeongpark  ...         34   @mijeongpark_34\n",
              "\n",
              "[5 rows x 9 columns]"
            ]
          },
          "metadata": {
            "tags": []
          },
          "execution_count": 9
        }
      ]
    },
    {
      "cell_type": "markdown",
      "metadata": {
        "id": "mGBVKHjQTzlQ",
        "colab_type": "text"
      },
      "source": [
        "c. Users.json\n",
        "\n",
        "*   users.json: 사용자 정보\n",
        "    *   가입한 사용자(작가 혹은 독자)의 정보입니다.\n",
        "    * 필드 설명\n",
        "        *   keyword_list: 최근 며칠간 작가 글로 유입되었던 검색 키워드\n",
        "        *   following_list: 구독 중인 작가 리스트\n",
        "        *   id: 사용자 식별자\n",
        "    *   총 310,758명의 정보가 있습니다. 탈퇴 등의 이유로 사용자 정보가 없을 수 있습니다.\n"
      ]
    },
    {
      "cell_type": "code",
      "metadata": {
        "id": "IhrtD1YjRyEo",
        "colab_type": "code",
        "colab": {}
      },
      "source": [
        "users = pd.read_json(directory + '/users.json', lines=True)"
      ],
      "execution_count": 0,
      "outputs": []
    },
    {
      "cell_type": "code",
      "metadata": {
        "id": "QfEBZsiMUccs",
        "colab_type": "code",
        "colab": {
          "base_uri": "https://localhost:8080/",
          "height": 34
        },
        "outputId": "83935b08-bea3-415a-dfe2-249122b08bd7"
      },
      "source": [
        "users.shape"
      ],
      "execution_count": 11,
      "outputs": [
        {
          "output_type": "execute_result",
          "data": {
            "text/plain": [
              "(310758, 3)"
            ]
          },
          "metadata": {
            "tags": []
          },
          "execution_count": 11
        }
      ]
    },
    {
      "cell_type": "code",
      "metadata": {
        "id": "EzJ5eo9zUeLH",
        "colab_type": "code",
        "colab": {
          "base_uri": "https://localhost:8080/",
          "height": 195
        },
        "outputId": "ef66893c-3fe7-40ea-80d0-02a0471c715b"
      },
      "source": [
        "users.head()"
      ],
      "execution_count": 12,
      "outputs": [
        {
          "output_type": "execute_result",
          "data": {
            "text/html": [
              "<div>\n",
              "<style scoped>\n",
              "    .dataframe tbody tr th:only-of-type {\n",
              "        vertical-align: middle;\n",
              "    }\n",
              "\n",
              "    .dataframe tbody tr th {\n",
              "        vertical-align: top;\n",
              "    }\n",
              "\n",
              "    .dataframe thead th {\n",
              "        text-align: right;\n",
              "    }\n",
              "</style>\n",
              "<table border=\"1\" class=\"dataframe\">\n",
              "  <thead>\n",
              "    <tr style=\"text-align: right;\">\n",
              "      <th></th>\n",
              "      <th>keyword_list</th>\n",
              "      <th>following_list</th>\n",
              "      <th>id</th>\n",
              "    </tr>\n",
              "  </thead>\n",
              "  <tbody>\n",
              "    <tr>\n",
              "      <th>0</th>\n",
              "      <td>[]</td>\n",
              "      <td>[@perytail, @brunch]</td>\n",
              "      <td>#901985d8bc4c481805c4a4f911814c4a</td>\n",
              "    </tr>\n",
              "    <tr>\n",
              "      <th>1</th>\n",
              "      <td>[]</td>\n",
              "      <td>[@holidaymemories, @wadiz, @sciforus, @dailydu...</td>\n",
              "      <td>#1fd89e9dcfa64b45020d9eaca54e0eed</td>\n",
              "    </tr>\n",
              "    <tr>\n",
              "      <th>2</th>\n",
              "      <td>[]</td>\n",
              "      <td>[@commerceguy, @sunsutu, @kakao-it, @joohoonja...</td>\n",
              "      <td>#1d94baaea71a831e1f33e1c6bd126ed5</td>\n",
              "    </tr>\n",
              "    <tr>\n",
              "      <th>3</th>\n",
              "      <td>[]</td>\n",
              "      <td>[@amberjeon48, @forsy20, @nemotokki, @hawann, ...</td>\n",
              "      <td>#04641c01892b12dc018b1410e4928c0d</td>\n",
              "    </tr>\n",
              "    <tr>\n",
              "      <th>4</th>\n",
              "      <td>[]</td>\n",
              "      <td>[@dwcha7342, @iammento, @kakao-it, @dkam, @ant...</td>\n",
              "      <td>#65bcaff862aadff877e461f54187ab62</td>\n",
              "    </tr>\n",
              "  </tbody>\n",
              "</table>\n",
              "</div>"
            ],
            "text/plain": [
              "  keyword_list  ...                                 id\n",
              "0           []  ...  #901985d8bc4c481805c4a4f911814c4a\n",
              "1           []  ...  #1fd89e9dcfa64b45020d9eaca54e0eed\n",
              "2           []  ...  #1d94baaea71a831e1f33e1c6bd126ed5\n",
              "3           []  ...  #04641c01892b12dc018b1410e4928c0d\n",
              "4           []  ...  #65bcaff862aadff877e461f54187ab62\n",
              "\n",
              "[5 rows x 3 columns]"
            ]
          },
          "metadata": {
            "tags": []
          },
          "execution_count": 12
        }
      ]
    },
    {
      "cell_type": "markdown",
      "metadata": {
        "id": "2d7Zpkg-UniL",
        "colab_type": "text"
      },
      "source": [
        "d. Read Files\n",
        "\n",
        "\n",
        "*   read 디렉토리: 본 글 정보\n",
        "    *   read.tar은 2018년 10월 1일부터 2019년 3월 1일까지 일부 브런치 독자들이 본 글의 정보가 총 3,625개의 파일로 구성되어 있습니다.\n",
        "    *  파일의 이름은 시작일_종료일 형태입니다. 예를 들어 2018110708_2018110709 파일은 2018년 11월 7일 오전 8시부터 2018년 11월 7일 오전 9시 전까지 본 글입니다.\n",
        "    *   파일은 여러 줄로 이뤄져 있으며 하나의 줄은 브런치의 독자가 파일의 시간 동안 본 글을 시간 순으로 기록한 것입니다. 한 줄의 정보는 공백으로 구분되어 있으며 첫번 째가 독자의 암호화된 식별자이고 그 뒤로는 해당 독자가 본 글의 정보입니다.\n",
        "    *   예를 들어 read/2019022823_2019030100 파일에 기록된 아래 정보는 #8a706ac921a11004bab941d22323efab 라는 독자가 2019년 2월 28일 23시에서 2019년 3월 1일 0시 사이에 @bakchacruz_34 @wo-motivator_133 @wo-motivator_133 를 순서대로 보았다는 뜻입니다. @wo-motivator_133 글이 두 번 나타난 것은 이 글을 보기 위해 두 번 방문했다는 뜻입니다.\n",
        "          * **`#8a706ac921a11004bab941d22323efab @bakchacruz_34 @wo-motivator_133 @wo-motivator_133`**\n",
        "    *   글을 보았다는 의미는 특정 글에 모바일, PC, 앱을 통해 접근했다는 뜻입니다. 머문 시간에 대한 정보가 제공되지 않기 때문에 실제로 글을 읽지 않고 이탈하는 등의 가능성도 있습니다.\n",
        "\n",
        "\n",
        "\n",
        "\n",
        "\n"
      ]
    },
    {
      "cell_type": "code",
      "metadata": {
        "id": "TMcfKucuUl3r",
        "colab_type": "code",
        "colab": {}
      },
      "source": [
        "# glob.glob(path) # path 내에 모든 파일을 '경로+파일명'의 list 형식으로 가져옴\n",
        "read_file_lst = glob.glob(directory + 'read/*')"
      ],
      "execution_count": 0,
      "outputs": []
    },
    {
      "cell_type": "code",
      "metadata": {
        "id": "fHiW8c35Ul-G",
        "colab_type": "code",
        "colab": {}
      },
      "source": [
        "exclude_file_lst = ['read.tar']"
      ],
      "execution_count": 0,
      "outputs": []
    },
    {
      "cell_type": "code",
      "metadata": {
        "id": "CwyBhXk9Ul7Z",
        "colab_type": "code",
        "colab": {}
      },
      "source": [
        "read_df_lst = []\n",
        "for f in read_file_lst:\n",
        "    file_name = os.path.basename(f) # os.path.basename('name') => 해당 이름을 가진 폴더/파일 \n",
        "    if file_name in exclude_file_lst:\n",
        "        print(file_name)\n",
        "    else:\n",
        "        df_temp = pd.read_csv(f, header=None, names=['raw'])\n",
        "        df_temp['dt'] = file_name[:8] # file_name에서 datetime 해당부분만\n",
        "        df_temp['hr'] = file_name[8:10] # file_name에서 hr 해당부분만\n",
        "        df_temp['user_id'] = df_temp['raw'].str.split(' ').str[0] # raw 에서 user_id 추출\n",
        "        df_temp['article_id'] = df_temp['raw'].str.split(' ').str[1:].str.join(' ').str.strip() # article_id 추출\n",
        "        read_df_lst.append(df_temp)"
      ],
      "execution_count": 0,
      "outputs": []
    },
    {
      "cell_type": "code",
      "metadata": {
        "id": "_cJlD1bId4AA",
        "colab_type": "code",
        "colab": {}
      },
      "source": [
        "read = pd.concat(read_df_lst)"
      ],
      "execution_count": 0,
      "outputs": []
    },
    {
      "cell_type": "code",
      "metadata": {
        "id": "spUSU0r513ce",
        "colab_type": "code",
        "colab": {}
      },
      "source": [
        "read.to_csv(directory + 'read.csv', index=None)"
      ],
      "execution_count": 0,
      "outputs": []
    },
    {
      "cell_type": "code",
      "metadata": {
        "id": "39LOmcfNFCyj",
        "colab_type": "code",
        "colab": {}
      },
      "source": [
        ""
      ],
      "execution_count": 0,
      "outputs": []
    },
    {
      "cell_type": "code",
      "metadata": {
        "id": "UFNRz-Vrd394",
        "colab_type": "code",
        "colab": {}
      },
      "source": [
        "read.head()"
      ],
      "execution_count": 0,
      "outputs": []
    },
    {
      "cell_type": "code",
      "metadata": {
        "id": "d8tE_f80FbBC",
        "colab_type": "code",
        "colab": {}
      },
      "source": [
        "a = pd.read_csv(directory + 'read.csv')"
      ],
      "execution_count": 0,
      "outputs": []
    },
    {
      "cell_type": "code",
      "metadata": {
        "id": "MVfU8W6GFfhO",
        "colab_type": "code",
        "colab": {
          "base_uri": "https://localhost:8080/",
          "height": 690
        },
        "outputId": "4fd05953-1ad7-4fc8-e9a8-ab6cfcd91637"
      },
      "source": [
        "s = a[a.dt == 20181001]\n",
        "s[s.hr == 00]"
      ],
      "execution_count": 37,
      "outputs": [
        {
          "output_type": "execute_result",
          "data": {
            "text/html": [
              "<div>\n",
              "<style scoped>\n",
              "    .dataframe tbody tr th:only-of-type {\n",
              "        vertical-align: middle;\n",
              "    }\n",
              "\n",
              "    .dataframe tbody tr th {\n",
              "        vertical-align: top;\n",
              "    }\n",
              "\n",
              "    .dataframe thead th {\n",
              "        text-align: right;\n",
              "    }\n",
              "</style>\n",
              "<table border=\"1\" class=\"dataframe\">\n",
              "  <thead>\n",
              "    <tr style=\"text-align: right;\">\n",
              "      <th></th>\n",
              "      <th>raw</th>\n",
              "      <th>dt</th>\n",
              "      <th>hr</th>\n",
              "      <th>user_id</th>\n",
              "      <th>article_id</th>\n",
              "    </tr>\n",
              "  </thead>\n",
              "  <tbody>\n",
              "    <tr>\n",
              "      <th>3119762</th>\n",
              "      <td>#e208be4ffea19b1ceb5cea2e3c4dc32c @kty0613_91</td>\n",
              "      <td>20181001</td>\n",
              "      <td>0</td>\n",
              "      <td>#e208be4ffea19b1ceb5cea2e3c4dc32c</td>\n",
              "      <td>@kty0613_91</td>\n",
              "    </tr>\n",
              "    <tr>\n",
              "      <th>3119763</th>\n",
              "      <td>#0a3d493f3b2318be80f391eaa00bfd1c @miamiyoung_...</td>\n",
              "      <td>20181001</td>\n",
              "      <td>0</td>\n",
              "      <td>#0a3d493f3b2318be80f391eaa00bfd1c</td>\n",
              "      <td>@miamiyoung_31 @banksalad_49 @rlfrjsdn_95 @rea...</td>\n",
              "    </tr>\n",
              "    <tr>\n",
              "      <th>3119764</th>\n",
              "      <td>#b90d3ee7ed0d7d827aae168e159749f1 @joeunha_4 @...</td>\n",
              "      <td>20181001</td>\n",
              "      <td>0</td>\n",
              "      <td>#b90d3ee7ed0d7d827aae168e159749f1</td>\n",
              "      <td>@joeunha_4 @yoonvi_3</td>\n",
              "    </tr>\n",
              "    <tr>\n",
              "      <th>3119765</th>\n",
              "      <td>#b8b9d09fe2961fd62edc94912bf75a90 @hyejinchoi_...</td>\n",
              "      <td>20181001</td>\n",
              "      <td>0</td>\n",
              "      <td>#b8b9d09fe2961fd62edc94912bf75a90</td>\n",
              "      <td>@hyejinchoi_122 @hyejinchoi_86 @hyejinchoi_42 ...</td>\n",
              "    </tr>\n",
              "    <tr>\n",
              "      <th>3119766</th>\n",
              "      <td>#072f742eda9359cdac03ad080193c11d @doyeonsunim...</td>\n",
              "      <td>20181001</td>\n",
              "      <td>0</td>\n",
              "      <td>#072f742eda9359cdac03ad080193c11d</td>\n",
              "      <td>@doyeonsunim_240 @k52524_297 @bule13_33 @kwong...</td>\n",
              "    </tr>\n",
              "    <tr>\n",
              "      <th>...</th>\n",
              "      <td>...</td>\n",
              "      <td>...</td>\n",
              "      <td>...</td>\n",
              "      <td>...</td>\n",
              "      <td>...</td>\n",
              "    </tr>\n",
              "    <tr>\n",
              "      <th>3120982</th>\n",
              "      <td>#7c5821cc6cd830702a8b2cc5c9972d79 @alicemelbou...</td>\n",
              "      <td>20181001</td>\n",
              "      <td>0</td>\n",
              "      <td>#7c5821cc6cd830702a8b2cc5c9972d79</td>\n",
              "      <td>@alicemelbourne_174 @alicemelbourne_179 @alice...</td>\n",
              "    </tr>\n",
              "    <tr>\n",
              "      <th>3120983</th>\n",
              "      <td>#786c0a67798046548075d93df609b862 @missingmay_...</td>\n",
              "      <td>20181001</td>\n",
              "      <td>0</td>\n",
              "      <td>#786c0a67798046548075d93df609b862</td>\n",
              "      <td>@missingmay_141</td>\n",
              "    </tr>\n",
              "    <tr>\n",
              "      <th>3120984</th>\n",
              "      <td>#55e9271a52a4de061771b55aec78adc6 @leejarak_19...</td>\n",
              "      <td>20181001</td>\n",
              "      <td>0</td>\n",
              "      <td>#55e9271a52a4de061771b55aec78adc6</td>\n",
              "      <td>@leejarak_198 @leejarak_201 @leejarak_198</td>\n",
              "    </tr>\n",
              "    <tr>\n",
              "      <th>3120985</th>\n",
              "      <td>#c5b67e1350aa943bbe0acdeccbc452a5 @tenbody_1422</td>\n",
              "      <td>20181001</td>\n",
              "      <td>0</td>\n",
              "      <td>#c5b67e1350aa943bbe0acdeccbc452a5</td>\n",
              "      <td>@tenbody_1422</td>\n",
              "    </tr>\n",
              "    <tr>\n",
              "      <th>3120986</th>\n",
              "      <td>#c4983560a355f58d173bedd9f45575e8 @myelee_109</td>\n",
              "      <td>20181001</td>\n",
              "      <td>0</td>\n",
              "      <td>#c4983560a355f58d173bedd9f45575e8</td>\n",
              "      <td>@myelee_109</td>\n",
              "    </tr>\n",
              "  </tbody>\n",
              "</table>\n",
              "<p>1225 rows × 5 columns</p>\n",
              "</div>"
            ],
            "text/plain": [
              "                                                       raw  ...                                         article_id\n",
              "3119762     #e208be4ffea19b1ceb5cea2e3c4dc32c @kty0613_91   ...                                        @kty0613_91\n",
              "3119763  #0a3d493f3b2318be80f391eaa00bfd1c @miamiyoung_...  ...  @miamiyoung_31 @banksalad_49 @rlfrjsdn_95 @rea...\n",
              "3119764  #b90d3ee7ed0d7d827aae168e159749f1 @joeunha_4 @...  ...                               @joeunha_4 @yoonvi_3\n",
              "3119765  #b8b9d09fe2961fd62edc94912bf75a90 @hyejinchoi_...  ...  @hyejinchoi_122 @hyejinchoi_86 @hyejinchoi_42 ...\n",
              "3119766  #072f742eda9359cdac03ad080193c11d @doyeonsunim...  ...  @doyeonsunim_240 @k52524_297 @bule13_33 @kwong...\n",
              "...                                                    ...  ...                                                ...\n",
              "3120982  #7c5821cc6cd830702a8b2cc5c9972d79 @alicemelbou...  ...  @alicemelbourne_174 @alicemelbourne_179 @alice...\n",
              "3120983  #786c0a67798046548075d93df609b862 @missingmay_...  ...                                    @missingmay_141\n",
              "3120984  #55e9271a52a4de061771b55aec78adc6 @leejarak_19...  ...          @leejarak_198 @leejarak_201 @leejarak_198\n",
              "3120985   #c5b67e1350aa943bbe0acdeccbc452a5 @tenbody_1422   ...                                      @tenbody_1422\n",
              "3120986     #c4983560a355f58d173bedd9f45575e8 @myelee_109   ...                                        @myelee_109\n",
              "\n",
              "[1225 rows x 5 columns]"
            ]
          },
          "metadata": {
            "tags": []
          },
          "execution_count": 37
        }
      ]
    }
  ]
}
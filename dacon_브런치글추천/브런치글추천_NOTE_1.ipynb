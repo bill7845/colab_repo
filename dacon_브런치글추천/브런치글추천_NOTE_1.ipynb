{
  "nbformat": 4,
  "nbformat_minor": 0,
  "metadata": {
    "colab": {
      "name": "브런치글추천_NOTE_1.ipynb",
      "provenance": [],
      "collapsed_sections": [],
      "mount_file_id": "19ivssxr7_76tOUxnZjk5jsQo5_nUUpaa",
      "authorship_tag": "ABX9TyMI6aQRUA7x/mLyEV9gc2i6",
      "include_colab_link": true
    },
    "kernelspec": {
      "name": "python3",
      "display_name": "Python 3"
    }
  },
  "cells": [
    {
      "cell_type": "markdown",
      "metadata": {
        "id": "view-in-github",
        "colab_type": "text"
      },
      "source": [
        "<a href=\"https://colab.research.google.com/github/bill7845/colab_repo/blob/master/dacon_%EB%B8%8C%EB%9F%B0%EC%B9%98%EA%B8%80%EC%B6%94%EC%B2%9C/%EB%B8%8C%EB%9F%B0%EC%B9%98%EA%B8%80%EC%B6%94%EC%B2%9C_NOTE_1.ipynb\" target=\"_parent\"><img src=\"https://colab.research.google.com/assets/colab-badge.svg\" alt=\"Open In Colab\"/></a>"
      ]
    },
    {
      "cell_type": "code",
      "metadata": {
        "id": "w3FAWJ03K8Of",
        "colab_type": "code",
        "colab": {}
      },
      "source": [
        "from collections import Counter\n",
        "from datetime import timedelta, datetime\n",
        "import glob\n",
        "from itertools import chain\n",
        "import json\n",
        "import os\n",
        "import re\n",
        "\n",
        "import matplotlib.pyplot as plt\n",
        "import numpy as np\n",
        "import pandas as pd\n",
        "from pandas.plotting import register_matplotlib_converters\n",
        "import seaborn as sns\n",
        "\n",
        "import matplotlib\n",
        "import matplotlib.pyplot as plt\n",
        "import matplotlib.font_manager as fm\n",
        "# font_path = '/usr/share/fonts/NanumGothic.ttf'\n",
        "# font_name = fm.FontProperties(fname=font_path, size=10).get_name()\n",
        "# plt.rc('font', family=font_name, size=12)\n",
        "# plt.rcParams[\"figure.figsize\"] = (20, 10)\n",
        "# register_matplotlib_converters()"
      ],
      "execution_count": 0,
      "outputs": []
    },
    {
      "cell_type": "code",
      "metadata": {
        "id": "mhWTMyJaLaej",
        "colab_type": "code",
        "colab": {}
      },
      "source": [
        "directory = '/content/drive/My Drive/Colab data/카카오아레나_브런치데이터/'"
      ],
      "execution_count": 0,
      "outputs": []
    },
    {
      "cell_type": "markdown",
      "metadata": {
        "id": "h7Ry-uepMxzr",
        "colab_type": "text"
      },
      "source": [
        "**1. Data Read**\n",
        "\n",
        "a. magazine"
      ]
    },
    {
      "cell_type": "code",
      "metadata": {
        "id": "MGOuA7NeMimO",
        "colab_type": "code",
        "colab": {}
      },
      "source": [
        "magazine = pd.read_json(directory + 'magazine.json', lines=True)"
      ],
      "execution_count": 0,
      "outputs": []
    },
    {
      "cell_type": "code",
      "metadata": {
        "id": "u4kp9S46NPPi",
        "colab_type": "code",
        "colab": {}
      },
      "source": [
        "ㅁㄴㅇㄹ"
      ],
      "execution_count": 0,
      "outputs": []
    },
    {
      "cell_type": "code",
      "metadata": {
        "id": "yOSinrxrNPSP",
        "colab_type": "code",
        "colab": {}
      },
      "source": [
        "ㄴㅁㄹㄴㅇ"
      ],
      "execution_count": 0,
      "outputs": []
    },
    {
      "cell_type": "code",
      "metadata": {
        "id": "_gN6lsyVNPOQ",
        "colab_type": "code",
        "colab": {}
      },
      "source": [
        "ㅁㄴㅇㄹ"
      ],
      "execution_count": 0,
      "outputs": []
    },
    {
      "cell_type": "code",
      "metadata": {
        "id": "pfdl36BwNPKv",
        "colab_type": "code",
        "colab": {}
      },
      "source": [
        ""
      ],
      "execution_count": 0,
      "outputs": []
    }
  ]
}
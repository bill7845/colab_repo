{
  "nbformat": 4,
  "nbformat_minor": 0,
  "metadata": {
    "hide_input": false,
    "kernelspec": {
      "display_name": "Python 3",
      "language": "python",
      "name": "python3"
    },
    "language_info": {
      "codemirror_mode": {
        "name": "ipython",
        "version": 3
      },
      "file_extension": ".py",
      "mimetype": "text/x-python",
      "name": "python",
      "nbconvert_exporter": "python",
      "pygments_lexer": "ipython3",
      "version": "3.7.7"
    },
    "toc": {
      "base_numbering": 1,
      "nav_menu": {},
      "number_sections": true,
      "sideBar": true,
      "skip_h1_title": false,
      "title_cell": "Table of Contents",
      "title_sidebar": "Contents",
      "toc_cell": false,
      "toc_position": {},
      "toc_section_display": true,
      "toc_window_display": false
    },
    "varInspector": {
      "cols": {
        "lenName": 16,
        "lenType": 16,
        "lenVar": 40
      },
      "kernels_config": {
        "python": {
          "delete_cmd_postfix": "",
          "delete_cmd_prefix": "del ",
          "library": "var_list.py",
          "varRefreshCmd": "print(var_dic_list())"
        },
        "r": {
          "delete_cmd_postfix": ") ",
          "delete_cmd_prefix": "rm(",
          "library": "var_list.r",
          "varRefreshCmd": "cat(var_dic_list()) "
        }
      },
      "types_to_exclude": [
        "module",
        "function",
        "builtin_function_or_method",
        "instance",
        "_Feature"
      ],
      "window_display": false
    },
    "colab": {
      "name": "modeling_2.ipynb",
      "provenance": [],
      "collapsed_sections": [],
      "machine_shape": "hm",
      "include_colab_link": true
    },
    "accelerator": "TPU"
  },
  "cells": [
    {
      "cell_type": "markdown",
      "metadata": {
        "id": "view-in-github",
        "colab_type": "text"
      },
      "source": [
        "<a href=\"https://colab.research.google.com/github/bill7845/colab_repo/blob/master/dacon_%EC%A0%9C%EC%A3%BC%EC%B9%B4%EB%93%9C%EC%82%AC%EC%9A%A9%EB%9F%89%EC%98%88%EC%B8%A1/modeling_2.ipynb\" target=\"_parent\"><img src=\"https://colab.research.google.com/assets/colab-badge.svg\" alt=\"Open In Colab\"/></a>"
      ]
    },
    {
      "cell_type": "code",
      "metadata": {
        "id": "4fprJz2Kah9P",
        "colab_type": "code",
        "colab": {}
      },
      "source": [
        "import pandas as pd\n",
        "import numpy as np\n",
        "\n",
        "import warnings\n",
        "warnings.filterwarnings(action='ignore') "
      ],
      "execution_count": 1,
      "outputs": []
    },
    {
      "cell_type": "code",
      "metadata": {
        "id": "pXjEeCCxah9V",
        "colab_type": "code",
        "colab": {
          "base_uri": "https://localhost:8080/",
          "height": 35
        },
        "outputId": "65ba1ace-f3fe-4e9a-975c-018a95bd8356"
      },
      "source": [
        "data = pd.read_csv('/content/drive/My Drive/Colab code/dacon_카드사용액 예측/data/201901-202003.csv', encoding='utf-8')\n",
        "data.shape"
      ],
      "execution_count": 2,
      "outputs": [
        {
          "output_type": "execute_result",
          "data": {
            "text/plain": [
              "(24697792, 12)"
            ]
          },
          "metadata": {
            "tags": []
          },
          "execution_count": 2
        }
      ]
    },
    {
      "cell_type": "code",
      "metadata": {
        "id": "wJc9XReekAzl",
        "colab_type": "code",
        "colab": {
          "base_uri": "https://localhost:8080/",
          "height": 76
        },
        "outputId": "d2d1849d-2e86-41e1-9620-3f6ca7f20109"
      },
      "source": [
        "data.head(1)"
      ],
      "execution_count": 3,
      "outputs": [
        {
          "output_type": "execute_result",
          "data": {
            "text/html": [
              "<div>\n",
              "<style scoped>\n",
              "    .dataframe tbody tr th:only-of-type {\n",
              "        vertical-align: middle;\n",
              "    }\n",
              "\n",
              "    .dataframe tbody tr th {\n",
              "        vertical-align: top;\n",
              "    }\n",
              "\n",
              "    .dataframe thead th {\n",
              "        text-align: right;\n",
              "    }\n",
              "</style>\n",
              "<table border=\"1\" class=\"dataframe\">\n",
              "  <thead>\n",
              "    <tr style=\"text-align: right;\">\n",
              "      <th></th>\n",
              "      <th>REG_YYMM</th>\n",
              "      <th>CARD_SIDO_NM</th>\n",
              "      <th>CARD_CCG_NM</th>\n",
              "      <th>STD_CLSS_NM</th>\n",
              "      <th>HOM_SIDO_NM</th>\n",
              "      <th>HOM_CCG_NM</th>\n",
              "      <th>AGE</th>\n",
              "      <th>SEX_CTGO_CD</th>\n",
              "      <th>FLC</th>\n",
              "      <th>CSTMR_CNT</th>\n",
              "      <th>AMT</th>\n",
              "      <th>CNT</th>\n",
              "    </tr>\n",
              "  </thead>\n",
              "  <tbody>\n",
              "    <tr>\n",
              "      <th>0</th>\n",
              "      <td>201901</td>\n",
              "      <td>강원</td>\n",
              "      <td>강릉시</td>\n",
              "      <td>건강보조식품 소매업</td>\n",
              "      <td>강원</td>\n",
              "      <td>강릉시</td>\n",
              "      <td>20s</td>\n",
              "      <td>1</td>\n",
              "      <td>1</td>\n",
              "      <td>4</td>\n",
              "      <td>311200</td>\n",
              "      <td>4</td>\n",
              "    </tr>\n",
              "  </tbody>\n",
              "</table>\n",
              "</div>"
            ],
            "text/plain": [
              "   REG_YYMM CARD_SIDO_NM CARD_CCG_NM STD_CLSS_NM  ... FLC CSTMR_CNT     AMT  CNT\n",
              "0    201901           강원         강릉시  건강보조식품 소매업  ...   1         4  311200    4\n",
              "\n",
              "[1 rows x 12 columns]"
            ]
          },
          "metadata": {
            "tags": []
          },
          "execution_count": 3
        }
      ]
    },
    {
      "cell_type": "code",
      "metadata": {
        "id": "W2Rgh11EjpEm",
        "colab_type": "code",
        "colab": {
          "base_uri": "https://localhost:8080/",
          "height": 194
        },
        "outputId": "3b854346-03b3-4dd8-88e9-5c331c16476d"
      },
      "source": [
        "## data preprocessing\n",
        "\n",
        "data = data.fillna('세종') # 결측값 ''로 대체\n",
        "\n",
        "## 날짜 처리\n",
        "def grap_year(data): # year \n",
        "    data = str(data)\n",
        "    return int(data[:4])\n",
        "\n",
        "def grap_month(data): # month \n",
        "    data = str(data)\n",
        "    return int(data[4:])\n",
        "\n",
        "data['year'] = data['REG_YYMM'].apply(lambda x: grap_year(x))\n",
        "data['month'] = data['REG_YYMM'].apply(lambda x: grap_month(x))\n",
        "data = data.drop(['REG_YYMM'], axis=1) # 기존 날짜컬럼 삭제\n",
        "data.head()"
      ],
      "execution_count": 4,
      "outputs": [
        {
          "output_type": "execute_result",
          "data": {
            "text/html": [
              "<div>\n",
              "<style scoped>\n",
              "    .dataframe tbody tr th:only-of-type {\n",
              "        vertical-align: middle;\n",
              "    }\n",
              "\n",
              "    .dataframe tbody tr th {\n",
              "        vertical-align: top;\n",
              "    }\n",
              "\n",
              "    .dataframe thead th {\n",
              "        text-align: right;\n",
              "    }\n",
              "</style>\n",
              "<table border=\"1\" class=\"dataframe\">\n",
              "  <thead>\n",
              "    <tr style=\"text-align: right;\">\n",
              "      <th></th>\n",
              "      <th>CARD_SIDO_NM</th>\n",
              "      <th>CARD_CCG_NM</th>\n",
              "      <th>STD_CLSS_NM</th>\n",
              "      <th>HOM_SIDO_NM</th>\n",
              "      <th>HOM_CCG_NM</th>\n",
              "      <th>AGE</th>\n",
              "      <th>SEX_CTGO_CD</th>\n",
              "      <th>FLC</th>\n",
              "      <th>CSTMR_CNT</th>\n",
              "      <th>AMT</th>\n",
              "      <th>CNT</th>\n",
              "      <th>year</th>\n",
              "      <th>month</th>\n",
              "    </tr>\n",
              "  </thead>\n",
              "  <tbody>\n",
              "    <tr>\n",
              "      <th>0</th>\n",
              "      <td>강원</td>\n",
              "      <td>강릉시</td>\n",
              "      <td>건강보조식품 소매업</td>\n",
              "      <td>강원</td>\n",
              "      <td>강릉시</td>\n",
              "      <td>20s</td>\n",
              "      <td>1</td>\n",
              "      <td>1</td>\n",
              "      <td>4</td>\n",
              "      <td>311200</td>\n",
              "      <td>4</td>\n",
              "      <td>2019</td>\n",
              "      <td>1</td>\n",
              "    </tr>\n",
              "    <tr>\n",
              "      <th>1</th>\n",
              "      <td>강원</td>\n",
              "      <td>강릉시</td>\n",
              "      <td>건강보조식품 소매업</td>\n",
              "      <td>강원</td>\n",
              "      <td>강릉시</td>\n",
              "      <td>30s</td>\n",
              "      <td>1</td>\n",
              "      <td>2</td>\n",
              "      <td>7</td>\n",
              "      <td>1374500</td>\n",
              "      <td>8</td>\n",
              "      <td>2019</td>\n",
              "      <td>1</td>\n",
              "    </tr>\n",
              "    <tr>\n",
              "      <th>2</th>\n",
              "      <td>강원</td>\n",
              "      <td>강릉시</td>\n",
              "      <td>건강보조식품 소매업</td>\n",
              "      <td>강원</td>\n",
              "      <td>강릉시</td>\n",
              "      <td>30s</td>\n",
              "      <td>2</td>\n",
              "      <td>2</td>\n",
              "      <td>6</td>\n",
              "      <td>818700</td>\n",
              "      <td>6</td>\n",
              "      <td>2019</td>\n",
              "      <td>1</td>\n",
              "    </tr>\n",
              "    <tr>\n",
              "      <th>3</th>\n",
              "      <td>강원</td>\n",
              "      <td>강릉시</td>\n",
              "      <td>건강보조식품 소매업</td>\n",
              "      <td>강원</td>\n",
              "      <td>강릉시</td>\n",
              "      <td>40s</td>\n",
              "      <td>1</td>\n",
              "      <td>3</td>\n",
              "      <td>4</td>\n",
              "      <td>1717000</td>\n",
              "      <td>5</td>\n",
              "      <td>2019</td>\n",
              "      <td>1</td>\n",
              "    </tr>\n",
              "    <tr>\n",
              "      <th>4</th>\n",
              "      <td>강원</td>\n",
              "      <td>강릉시</td>\n",
              "      <td>건강보조식품 소매업</td>\n",
              "      <td>강원</td>\n",
              "      <td>강릉시</td>\n",
              "      <td>40s</td>\n",
              "      <td>1</td>\n",
              "      <td>4</td>\n",
              "      <td>3</td>\n",
              "      <td>1047300</td>\n",
              "      <td>3</td>\n",
              "      <td>2019</td>\n",
              "      <td>1</td>\n",
              "    </tr>\n",
              "  </tbody>\n",
              "</table>\n",
              "</div>"
            ],
            "text/plain": [
              "  CARD_SIDO_NM CARD_CCG_NM STD_CLSS_NM HOM_SIDO_NM  ...      AMT CNT  year  month\n",
              "0           강원         강릉시  건강보조식품 소매업          강원  ...   311200   4  2019      1\n",
              "1           강원         강릉시  건강보조식품 소매업          강원  ...  1374500   8  2019      1\n",
              "2           강원         강릉시  건강보조식품 소매업          강원  ...   818700   6  2019      1\n",
              "3           강원         강릉시  건강보조식품 소매업          강원  ...  1717000   5  2019      1\n",
              "4           강원         강릉시  건강보조식품 소매업          강원  ...  1047300   3  2019      1\n",
              "\n",
              "[5 rows x 13 columns]"
            ]
          },
          "metadata": {
            "tags": []
          },
          "execution_count": 4
        }
      ]
    },
    {
      "cell_type": "code",
      "metadata": {
        "id": "BBu5jLZxah9d",
        "colab_type": "code",
        "colab": {
          "base_uri": "https://localhost:8080/",
          "height": 266
        },
        "outputId": "9af8fa6d-194e-4367-db3a-b16b0e59238b"
      },
      "source": [
        "# 결측치 확인\n",
        "data.isnull().sum()"
      ],
      "execution_count": 5,
      "outputs": [
        {
          "output_type": "execute_result",
          "data": {
            "text/plain": [
              "CARD_SIDO_NM    0\n",
              "CARD_CCG_NM     0\n",
              "STD_CLSS_NM     0\n",
              "HOM_SIDO_NM     0\n",
              "HOM_CCG_NM      0\n",
              "AGE             0\n",
              "SEX_CTGO_CD     0\n",
              "FLC             0\n",
              "CSTMR_CNT       0\n",
              "AMT             0\n",
              "CNT             0\n",
              "year            0\n",
              "month           0\n",
              "dtype: int64"
            ]
          },
          "metadata": {
            "tags": []
          },
          "execution_count": 5
        }
      ]
    },
    {
      "cell_type": "code",
      "metadata": {
        "id": "493dQaHpah9h",
        "colab_type": "code",
        "colab": {}
      },
      "source": [
        "# 시군구도 필요없으니 시군구 변수도 삭제\n",
        "del data['CARD_CCG_NM']\n",
        "del data['HOM_CCG_NM']\n",
        "del data['CSTMR_CNT']\n",
        "del data['CNT']"
      ],
      "execution_count": 6,
      "outputs": []
    },
    {
      "cell_type": "code",
      "metadata": {
        "id": "02zJ77sXzUl7",
        "colab_type": "code",
        "colab": {}
      },
      "source": [
        "## SEX_CTGE_CD 인코딩\n",
        "sex_condi = {1:0, 2:1} # 남자 0 여자 1로 인코딩\n",
        "data['SEX_CTGO_CD'] = data['SEX_CTGO_CD'].map(sex_condi)\n",
        "\n",
        "# ## 지역민인지 여부 변수 추가해보기\n",
        "# def get_local_nlocal(df):\n",
        "#   if df['CARD_SIDO_NM'] == df['HOM_SIDO_NM']:\n",
        "#     return 1 # 지역민 1\n",
        "#   else :\n",
        "#     return 0 # 외지인 0\n",
        "\n",
        "# data['local_nlocal'] = data.apply(get_local_nlocal,axis=1)\n",
        "\n",
        "# 컬럼 순서\n",
        "data = data[['year','month','CARD_SIDO_NM','STD_CLSS_NM','HOM_SIDO_NM','AGE','SEX_CTGO_CD','FLC','AMT']] # local_nlocal"
      ],
      "execution_count": 7,
      "outputs": []
    },
    {
      "cell_type": "markdown",
      "metadata": {
        "id": "dy5nefh1o2NF",
        "colab_type": "text"
      },
      "source": [
        "* 지역별 모델링"
      ]
    },
    {
      "cell_type": "code",
      "metadata": {
        "id": "0hxGGv6vq_bM",
        "colab_type": "code",
        "colab": {}
      },
      "source": [
        "from sklearn.preprocessing import LabelEncoder\n",
        "from sklearn.ensemble import RandomForestRegressor\n",
        "from itertools import product\n",
        "import lightgbm as lgb\n",
        "\n",
        "## encoding def\n",
        "## 인코딩 완료된 df형태로 반환\n",
        "def encoder_func(df):\n",
        "  dtypes = df.dtypes\n",
        "  encoders = {}\n",
        "  for column in df.columns:\n",
        "    if str(dtypes[column]) == 'object':\n",
        "      encoder = LabelEncoder()\n",
        "      encoder.fit(df[column])\n",
        "      encoders[column] = encoder\n",
        "\n",
        "  for column in encoders.keys():\n",
        "    encoder = encoders[column]\n",
        "    df[column] = encoder.transform(df[column])\n",
        "\n",
        "  return df,encoders\n",
        "\n",
        "\n",
        "# 지역별 모델링\n",
        "def modeling(full_data): # full_data는 전체 데이터의미. (data)\n",
        "\n",
        "  res_model_dict = {} # 각 지역별 모델 저장할 딕셔너리\n",
        "  res_forecasting = pd.DataFrame(columns=['REG_YYMM','CARD_SIDO_NM','STD_CLSS_NM','AMT']) # res_forecating에 각 지역별 예측결과를 누적하여 저장.\n",
        "  rmse_df = pd.DataFrame(columns=['best rmse'])\n",
        "  city_Nonexistent_std_clss = {}\n",
        "\n",
        "  city_list = full_data['CARD_SIDO_NM'].unique() # 전체 지역 리스트\n",
        "  \n",
        "  for city in city_list  : \n",
        "    print(city) \n",
        "    sampling = full_data.query(\"CARD_SIDO_NM == @city\") # 전체 데이터에서 한 지역씩 sampling 변수에 담음\n",
        "    Nonexistent_std_clss = list( set(full_data['STD_CLSS_NM'].unique()) - set(sampling['STD_CLSS_NM'].unique())) # 각 지역별로 집계값이 0인 업종들\n",
        "    city_Nonexistent_std_clss[city] = Nonexistent_std_clss\n",
        "    sampling,encoders = encoder_func(sampling) # 위에서 정의한 인코딩함수에 sampling을 넣어 인코딩 된 데이터와 인코더 객체를 반환받음\n",
        "\n",
        "    train_num = sampling.sample(frac=1, random_state=0) # 데이터 셔플\n",
        "    train_features = train_num.drop(['CARD_SIDO_NM','AMT'],axis=1) # features # 각 지역별로 진행하기 때문에 CARD_SIDO_NM은 제외함.\n",
        "    train_target = np.log1p(train_num['AMT']) # target\n",
        "\n",
        "    k = int(len(train_features)*0.9)\n",
        "\n",
        "    x_train = train_features[:k]\n",
        "    y_train = train_target[:k]\n",
        "    x_val = train_features[k:]\n",
        "    y_val = train_target[k:]\n",
        "\n",
        "\n",
        "    # model = RandomForestRegressor(n_jobs=-1, random_state=0) # model 선언 \n",
        "    # model.fit(train_features, train_target) # 학습\n",
        "\n",
        "    params = {\n",
        "            'learning_rate' : 0.05,\n",
        "            'boosting_type': 'gbdt',\n",
        "            'objective': 'regression',\n",
        "            'metric': 'rmse',\n",
        "            'sub_row' : 0.75,\n",
        "            'lambda_l2' : 0.1\n",
        "        }\n",
        "\n",
        "    train_ds = lgb.Dataset(x_train, label=y_train)\n",
        "    val_ds = lgb.Dataset(x_val, label=y_val)    \n",
        "    evals_result = {}\n",
        "    model = lgb.train(params,\n",
        "                  train_ds,\n",
        "                  1000,\n",
        "                  val_ds,\n",
        "                  verbose_eval = 100,\n",
        "                  early_stopping_rounds = 100,\n",
        "                  evals_result = evals_result\n",
        "                 )\n",
        "    \n",
        "    res_model_dict['model_'+city] = model # 학습 된 모델을 res_model 딕셔너리에 저장\n",
        "\n",
        "    rmse_df.loc[city] = [min(min(evals_result['valid_0'].values()))]\n",
        "\n",
        "    ## 템플릿 생성 부분\n",
        "    ## 각 지역별로 진행하기 때문에 CARD_SIDO_NM은 제외함.\n",
        "    year_temp = [2020]\n",
        "    month_temp = [4,7]\n",
        "    STD_CLSS_NM_temp = sampling['STD_CLSS_NM'].unique()\n",
        "    HOM_SIDO_NM_temp = sampling['HOM_SIDO_NM'].unique()\n",
        "    AGE_temp = sampling['AGE'].unique()\n",
        "    SEX_CTGO_CD_temp = sampling['SEX_CTGO_CD'].unique()\n",
        "    FLC_temp = sampling['FLC'].unique()\n",
        "    comb_list = [year_temp, month_temp, STD_CLSS_NM_temp, HOM_SIDO_NM_temp, AGE_temp, SEX_CTGO_CD_temp, FLC_temp] \n",
        "    forecasting_temp = np.array(list(product(*comb_list)))\n",
        "    forecasting_temp = pd.DataFrame(data=forecasting_temp, columns=train_features.columns) # 예측 템플릿 완성\n",
        "\n",
        "    pred = model.predict(forecasting_temp) # 예측\n",
        "    pred = np.expm1(pred)\n",
        "    forecasting_temp['AMT'] = np.round(pred, 0) \n",
        "    forecasting_temp['REG_YYMM'] = forecasting_temp['year']*100 + forecasting_temp['month']\n",
        "    forecasting_temp = forecasting_temp[['REG_YYMM','STD_CLSS_NM', 'AMT']]\n",
        "    forecasting_temp.insert(1,'CARD_SIDO_NM',city) # 첫번째 열에 \"CARD_SIDO_NM\"이라는 열을 추가함 값은 해당 지역이름임\n",
        "    forecasting_temp = forecasting_temp.groupby(['REG_YYMM', 'CARD_SIDO_NM', 'STD_CLSS_NM']).sum().reset_index(drop=False) # 지역별,업종별 월간 사용금액 합계\n",
        "    forecasting_temp['STD_CLSS_NM'] = encoders['STD_CLSS_NM'].inverse_transform(forecasting_temp['STD_CLSS_NM']) # STD_CLSS_NM inverse encoding\n",
        "    \n",
        "    ## 각 지역별로 집계값이 0인 업종들이 있음\n",
        "    ## submission에서는 이 업종들도 포함해서 제출해야 하기 때문에 0으로 때려넣을것임\n",
        "    for clss in Nonexistent_std_clss:\n",
        "      for i in range(2):\n",
        "        mm = [202004,202007]\n",
        "        tmp = pd.DataFrame([[ mm[i],city,clss,0 ]],columns=forecasting_temp.columns)\n",
        "        forecasting_temp = pd.concat([forecasting_temp,tmp]) # forecasting_temp에 concat\n",
        "    \n",
        "    res_forecasting = pd.concat([res_forecasting,forecasting_temp]) # res_forecasting에 지역별 예측완료 된 값들을 누적하여 저장\n",
        "    \n",
        "  return res_model_dict, res_forecasting, rmse_df, city_Nonexistent_std_clss # 지역별 모델 딕셔너리, 최종 예측값 반환, 지역별 best rmse , 지역,업종별 null인 업종"
      ],
      "execution_count": 8,
      "outputs": []
    },
    {
      "cell_type": "code",
      "metadata": {
        "id": "O5Yfp83nfXQ5",
        "colab_type": "code",
        "colab": {}
      },
      "source": [
        "########################## 모델 실행 부분 ########################################\n",
        "\n",
        "res_model_dict_full,res_forecasting_full,rmse_df_full,city_Nonexistent_std_clss = modeling(data) # 실행 # 전체 기간 반영\n",
        "\n",
        "data_2020 = data.query(\"year==2020 and (month==3 or month==2)\")\n",
        "res_model_dict_2020,res_forecasting_2020,rmse_df_2020,city_Nonexistent_std_clss_s = modeling(data_2020) # 실행 # 2020년 2,3월만 반영\n",
        "\n",
        "\n",
        "########################## 모델 결과물을 최종 제출물 형태로  ########################################\n",
        "\n",
        "# submisson과 최종 예측 프레임 합치기\n",
        "def get_submission(data):\n",
        "  submission = pd.read_csv('/content/drive/My Drive/Colab code/dacon_카드사용액 예측/data/submission.csv', index_col=0)\n",
        "  submission = submission.drop(['AMT'], axis=1)\n",
        "  submission = submission.merge(data, left_on=['REG_YYMM', 'CARD_SIDO_NM', 'STD_CLSS_NM'], right_on=['REG_YYMM', 'CARD_SIDO_NM', 'STD_CLSS_NM'], how='left')\n",
        "  submission.index.name = 'id'\n",
        "\n",
        "  return submission\n",
        "\n",
        "submission_2020 = get_submission(res_forecasting_2020)\n",
        "submission_full = get_submission(res_forecasting_full)\n",
        "\n",
        "# submission.to_csv('/content/drive/My Drive/Colab code/dacon_카드사용액 예측/submission/20200727_2020_lgbm1.csv', encoding='utf-8-sig') # 저장 경로 설정 후 실행"
      ],
      "execution_count": null,
      "outputs": []
    },
    {
      "cell_type": "code",
      "metadata": {
        "id": "T3yxHESCvkR9",
        "colab_type": "code",
        "colab": {
          "base_uri": "https://localhost:8080/",
          "height": 428
        },
        "outputId": "315e64c9-0403-4a5e-e9ed-75a245532a0a"
      },
      "source": [
        "# 공개된 4월 데이터\n",
        "\n",
        "\n",
        "########################## 4월 데이터도 동일한 전처리 과정  ########################################\n",
        "\n",
        "submission_april = pd.read_csv(\"/content/drive/My Drive/Colab code/dacon_카드사용액 예측/data/202004.csv\")\n",
        "\n",
        "submission_april = submission_april.fillna('세종') # 결측값 ''로 대체\n",
        "\n",
        "submission_april['year'] = submission_april['REG_YYMM'].apply(lambda x: grap_year(x))\n",
        "submission_april['month'] = submission_april['REG_YYMM'].apply(lambda x: grap_month(x))\n",
        "submission_april = submission_april.drop(['REG_YYMM'], axis=1) # 기존 날짜컬럼 삭제\n",
        "submission_april.head()\n",
        "\n",
        "# 시군구도 필요없으니 시군구 변수도 삭제\n",
        "del submission_april['CARD_CCG_NM']\n",
        "del submission_april['HOM_CCG_NM']\n",
        "del submission_april['CSTMR_CNT']\n",
        "del submission_april['CNT']\n",
        "\n",
        "## SEX_CTGE_CD 인코딩\n",
        "sex_condi = {1:0, 2:1} # 남자 0 여자 1로 인코딩\n",
        "submission_april['SEX_CTGO_CD'] = submission_april['SEX_CTGO_CD'].map(sex_condi)\n",
        "\n",
        "# 컬럼 순서\n",
        "submission_april = submission_april[['year','month','CARD_SIDO_NM','STD_CLSS_NM','HOM_SIDO_NM','AGE','SEX_CTGO_CD','FLC','AMT']] # local_nlocal\n",
        "\n",
        "submission_april['REG_YYMM'] = submission_april['year']*100 + submission_april['month']\n",
        "submission_april = submission_april[['REG_YYMM', 'CARD_SIDO_NM', 'STD_CLSS_NM', 'AMT']]\n",
        "submission_april = submission_april.groupby(['REG_YYMM', 'CARD_SIDO_NM', 'STD_CLSS_NM']).sum().reset_index(drop=False)\n",
        "\n",
        "\n",
        "########################## 4월 데이터도 동일한 전처리 과정  ########################################\n",
        "\"\"\"\n",
        "공개된 4월데이터에 기존에 없던 null값(카드사용금액이 미미한 경우) 발생. 이 부분 0으로 때려넣음\n",
        "\"\"\"\n",
        "\n",
        "std_clss_list = data['STD_CLSS_NM'].unique() # 모든 업종 unique값\n",
        "\n",
        "def plus_std_clss(data, std_clss_list): # 4월데이터의 null값을 0으로 채워넣은 후 반환\n",
        "\n",
        "  result_df = pd.DataFrame(columns=['REG_YYMM','CARD_SIDO_NM','STD_CLSS_NM','AMT'])\n",
        "  plus_Nonexistent_std_clss = {}\n",
        "\n",
        "  for city in data['CARD_SIDO_NM'].unique():\n",
        "    sampling = data.query(\"CARD_SIDO_NM==@city\")\n",
        "    Nonexistent_std_clss = list( set(std_clss_list) - set(sampling['STD_CLSS_NM'].unique()) )\n",
        "    plus_Nonexistent_std_clss[city] = Nonexistent_std_clss\n",
        "    \n",
        "    for clss in Nonexistent_std_clss:\n",
        "      tmp=pd.DataFrame([[ 202004, city, clss, 0 ]], columns=sampling.columns)\n",
        "      sampling = pd.concat([sampling,tmp])\n",
        "    \n",
        "    result_df = pd.concat([result_df,sampling])\n",
        "  \n",
        "  return result_df,plus_Nonexistent_std_clss\n",
        "\n",
        "submission_april,plus_Nonexistent_std_clss = plus_std_clss(submission_april, std_clss_list) # 함수 실행\n",
        "\n",
        "## original submission과 index 맞추는 과정\n",
        "tmp = pd.read_csv('/content/drive/My Drive/Colab code/dacon_카드사용액 예측/data/submission.csv', index_col=0)\n",
        "tmp = tmp[tmp['REG_YYMM'] == 202004] # 4월만 추출\n",
        "submission_april = tmp.merge(submission_april, left_on=['REG_YYMM', 'CARD_SIDO_NM', 'STD_CLSS_NM'], right_on=['REG_YYMM', 'CARD_SIDO_NM', 'STD_CLSS_NM'], how='left')\n",
        "submission_april.index.name = 'id'\n",
        "del submission_april['AMT_x']\n",
        "submission_april = submission_april.rename(columns={\"AMT_y\" : \"AMT\"})\n",
        "submission_april"
      ],
      "execution_count": 11,
      "outputs": [
        {
          "output_type": "execute_result",
          "data": {
            "text/html": [
              "<div>\n",
              "<style scoped>\n",
              "    .dataframe tbody tr th:only-of-type {\n",
              "        vertical-align: middle;\n",
              "    }\n",
              "\n",
              "    .dataframe tbody tr th {\n",
              "        vertical-align: top;\n",
              "    }\n",
              "\n",
              "    .dataframe thead th {\n",
              "        text-align: right;\n",
              "    }\n",
              "</style>\n",
              "<table border=\"1\" class=\"dataframe\">\n",
              "  <thead>\n",
              "    <tr style=\"text-align: right;\">\n",
              "      <th></th>\n",
              "      <th>REG_YYMM</th>\n",
              "      <th>CARD_SIDO_NM</th>\n",
              "      <th>STD_CLSS_NM</th>\n",
              "      <th>AMT</th>\n",
              "    </tr>\n",
              "    <tr>\n",
              "      <th>id</th>\n",
              "      <th></th>\n",
              "      <th></th>\n",
              "      <th></th>\n",
              "      <th></th>\n",
              "    </tr>\n",
              "  </thead>\n",
              "  <tbody>\n",
              "    <tr>\n",
              "      <th>0</th>\n",
              "      <td>202004</td>\n",
              "      <td>강원</td>\n",
              "      <td>건강보조식품 소매업</td>\n",
              "      <td>88823988</td>\n",
              "    </tr>\n",
              "    <tr>\n",
              "      <th>1</th>\n",
              "      <td>202004</td>\n",
              "      <td>강원</td>\n",
              "      <td>골프장 운영업</td>\n",
              "      <td>4708346820</td>\n",
              "    </tr>\n",
              "    <tr>\n",
              "      <th>2</th>\n",
              "      <td>202004</td>\n",
              "      <td>강원</td>\n",
              "      <td>과실 및 채소 소매업</td>\n",
              "      <td>1121028924</td>\n",
              "    </tr>\n",
              "    <tr>\n",
              "      <th>3</th>\n",
              "      <td>202004</td>\n",
              "      <td>강원</td>\n",
              "      <td>관광 민예품 및 선물용품 소매업</td>\n",
              "      <td>14360780</td>\n",
              "    </tr>\n",
              "    <tr>\n",
              "      <th>4</th>\n",
              "      <td>202004</td>\n",
              "      <td>강원</td>\n",
              "      <td>그외 기타 분류안된 오락관련 서비스업</td>\n",
              "      <td>0</td>\n",
              "    </tr>\n",
              "    <tr>\n",
              "      <th>...</th>\n",
              "      <td>...</td>\n",
              "      <td>...</td>\n",
              "      <td>...</td>\n",
              "      <td>...</td>\n",
              "    </tr>\n",
              "    <tr>\n",
              "      <th>692</th>\n",
              "      <td>202004</td>\n",
              "      <td>충북</td>\n",
              "      <td>피자 햄버거 샌드위치 및 유사 음식점업</td>\n",
              "      <td>1373635928</td>\n",
              "    </tr>\n",
              "    <tr>\n",
              "      <th>693</th>\n",
              "      <td>202004</td>\n",
              "      <td>충북</td>\n",
              "      <td>한식 음식점업</td>\n",
              "      <td>18911036160</td>\n",
              "    </tr>\n",
              "    <tr>\n",
              "      <th>694</th>\n",
              "      <td>202004</td>\n",
              "      <td>충북</td>\n",
              "      <td>호텔업</td>\n",
              "      <td>14121500</td>\n",
              "    </tr>\n",
              "    <tr>\n",
              "      <th>695</th>\n",
              "      <td>202004</td>\n",
              "      <td>충북</td>\n",
              "      <td>화장품 및 방향제 소매업</td>\n",
              "      <td>450507431</td>\n",
              "    </tr>\n",
              "    <tr>\n",
              "      <th>696</th>\n",
              "      <td>202004</td>\n",
              "      <td>충북</td>\n",
              "      <td>휴양콘도 운영업</td>\n",
              "      <td>9328420</td>\n",
              "    </tr>\n",
              "  </tbody>\n",
              "</table>\n",
              "<p>697 rows × 4 columns</p>\n",
              "</div>"
            ],
            "text/plain": [
              "    REG_YYMM CARD_SIDO_NM            STD_CLSS_NM          AMT\n",
              "id                                                           \n",
              "0     202004           강원             건강보조식품 소매업     88823988\n",
              "1     202004           강원                골프장 운영업   4708346820\n",
              "2     202004           강원            과실 및 채소 소매업   1121028924\n",
              "3     202004           강원      관광 민예품 및 선물용품 소매업     14360780\n",
              "4     202004           강원   그외 기타 분류안된 오락관련 서비스업            0\n",
              "..       ...          ...                    ...          ...\n",
              "692   202004           충북  피자 햄버거 샌드위치 및 유사 음식점업   1373635928\n",
              "693   202004           충북                한식 음식점업  18911036160\n",
              "694   202004           충북                    호텔업     14121500\n",
              "695   202004           충북          화장품 및 방향제 소매업    450507431\n",
              "696   202004           충북               휴양콘도 운영업      9328420\n",
              "\n",
              "[697 rows x 4 columns]"
            ]
          },
          "metadata": {
            "tags": []
          },
          "execution_count": 11
        }
      ]
    },
    {
      "cell_type": "code",
      "metadata": {
        "id": "AwZb73_3XUJg",
        "colab_type": "code",
        "colab": {
          "base_uri": "https://localhost:8080/",
          "height": 35
        },
        "outputId": "70ee23db-d4c8-46ec-a4ef-4080a3ed308c"
      },
      "source": [
        "city_Nonexistent_std_clss['강원']"
      ],
      "execution_count": 14,
      "outputs": [
        {
          "output_type": "execute_result",
          "data": {
            "text/plain": [
              "['정기 항공 운송업']"
            ]
          },
          "metadata": {
            "tags": []
          },
          "execution_count": 14
        }
      ]
    },
    {
      "cell_type": "code",
      "metadata": {
        "id": "Zq0eGFCtW_i4",
        "colab_type": "code",
        "colab": {
          "base_uri": "https://localhost:8080/",
          "height": 390
        },
        "outputId": "d6059cba-6b63-4dda-9a1f-f620d881dad5"
      },
      "source": [
        "######## 4월 데이터에 null값으로 추가된 업종 ## 지역별로\n",
        "res_dict = {}\n",
        "for city in city_Nonexistent_std_clss:\n",
        "  res_dict[city] = list( set(plus_Nonexistent_std_clss[city]) - set(city_Nonexistent_std_clss[city]) )\n",
        "\n",
        "res_dict"
      ],
      "execution_count": 17,
      "outputs": [
        {
          "output_type": "execute_result",
          "data": {
            "text/plain": [
              "{'강원': ['버스 운송업', '그외 기타 분류안된 오락관련 서비스업', '면세점'],\n",
              " '경기': ['그외 기타 분류안된 오락관련 서비스업'],\n",
              " '경남': [],\n",
              " '경북': ['버스 운송업', '내항 여객 운송업', '그외 기타 분류안된 오락관련 서비스업'],\n",
              " '광주': ['내항 여객 운송업', '택시 운송업', '여행사업', '기타 수상오락 서비스업'],\n",
              " '대구': ['버스 운송업', '여행사업', '면세점'],\n",
              " '대전': ['여행사업', '기타 수상오락 서비스업'],\n",
              " '부산': ['버스 운송업', '내항 여객 운송업', '면세점'],\n",
              " '서울': [],\n",
              " '세종': ['그외 기타 분류안된 오락관련 서비스업',\n",
              "  '그외 기타 스포츠시설 운영업',\n",
              "  '관광 민예품 및 선물용품 소매업',\n",
              "  '기타 수상오락 서비스업',\n",
              "  '마사지업'],\n",
              " '울산': ['그외 기타 분류안된 오락관련 서비스업', '택시 운송업', '면세점'],\n",
              " '인천': [],\n",
              " '전남': ['기타 수상오락 서비스업', '그외 기타 분류안된 오락관련 서비스업', '택시 운송업', '면세점'],\n",
              " '전북': ['내항 여객 운송업'],\n",
              " '제주': ['그외 기타 스포츠시설 운영업'],\n",
              " '충남': ['내항 여객 운송업', '자동차 임대업', '택시 운송업', '정기 항공 운송업'],\n",
              " '충북': ['버스 운송업', '여행사업', '면세점']}"
            ]
          },
          "metadata": {
            "tags": []
          },
          "execution_count": 17
        }
      ]
    },
    {
      "cell_type": "code",
      "metadata": {
        "id": "qk7_fmtJRwqI",
        "colab_type": "code",
        "colab": {}
      },
      "source": [
        "# actual = res_forecasting_2020.query(\"REG_YYMM==202004\")['AMT'].values\n",
        "# predict = submission_april['AMT'].values\n",
        "\n",
        "# RMSLE = np.sqrt(mean_squared_log_error(actual, predict))"
      ],
      "execution_count": null,
      "outputs": []
    }
  ]
}